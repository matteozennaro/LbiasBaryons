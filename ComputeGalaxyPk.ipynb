{
 "cells": [
  {
   "cell_type": "markdown",
   "metadata": {},
   "source": [
    "# Compute galaxy Pk from mock with Nenya"
   ]
  },
  {
   "cell_type": "code",
   "execution_count": 1,
   "metadata": {},
   "outputs": [
    {
     "name": "stderr",
     "output_type": "stream",
     "text": [
      "/scratch/mzennaro/miniconda3/envs/mcnd/lib/python3.9/site-packages/pandas/core/computation/expressions.py:21: UserWarning: Pandas requires version '2.8.0' or newer of 'numexpr' (version '2.7.3' currently installed).\n",
      "  from pandas.core.computation.check import NUMEXPR_INSTALLED\n"
     ]
    }
   ],
   "source": [
    "import numpy as np\n",
    "import matplotlib.pyplot as plt\n",
    "import bacco\n",
    "import deepdish as dd\n",
    "import pickle"
   ]
  },
  {
   "cell_type": "code",
   "execution_count": 2,
   "metadata": {},
   "outputs": [
    {
     "name": "stderr",
     "output_type": "stream",
     "text": [
      "2024-02-04 18:30:35,406 bacco.sims : Initialising simulation Default\n",
      "2024-02-04 18:30:35,407 bacco.sims : try /dipc_storage/cosmosims/MultiCosmology_N768/nenya_N768_output/0.00/groups_081/fof_subhalo_history_tab_orph_wweight_081\n",
      "2024-02-04 18:30:35,411 bacco.sims : Loading /dipc_storage/cosmosims/MultiCosmology_N768/nenya_N768_output/0.00/groups_081/fof_subhalo_history_tab_orph_wweight_081\n",
      "2024-02-04 18:30:35,424 bacco.cosmo :    initialization took 0.000 secs\n",
      "2024-02-04 18:30:35,526 bacco.sims : ...done in 0.0221 s\n"
     ]
    },
    {
     "name": "stdout",
     "output_type": "stream",
     "text": [
      "-----------------------------------------------\n",
      "Cosmology \"Default\", de_model \"LCDM\" \n",
      "- Paramerers: Omega_cdm = 0.265, Omega_b = 0.05, Omega_de = 0.685, \n",
      "Hubble=0.6, Sigma_8=0.9, A_s=None, ns=1.01, neutrino_mass=0.0, \n",
      "Omega_r=0.0, Omega_k=0.0, tau=0.0952, w0=-1.0, wa=0.0\n",
      "- Power Spectrum: CAMB,   Expansion Factor: 0.9990212338420196,   ReNormalizeInputSpectrum: (False,)\n",
      "-----------------------------------------------\n"
     ]
    }
   ],
   "source": [
    "basedir = '/dipc_storage/cosmosims/MultiCosmology_N768/nenya_N768_output/0.00/'\n",
    "halo_file = 'groups_000/fof_subhalo_history_tab_orph_wweight_000'\n",
    "atarget = 1\n",
    "sim = bacco.Simulation(basedir=basedir, halo_file=halo_file, closest_expfactor=atarget)\n",
    "print(sim.Cosmology)"
   ]
  },
  {
   "cell_type": "code",
   "execution_count": 3,
   "metadata": {},
   "outputs": [
    {
     "name": "stderr",
     "output_type": "stream",
     "text": [
      "2024-02-04 18:30:35,708 bacco.sims : Reading 3749445 items for SubhaloVpeak\n",
      "2024-02-04 18:30:38,917 bacco.sims : Reading 3749445 items for InfallSnap\n",
      "2024-02-04 18:30:42,533 bacco.sims : Reading 3749445 items for SnapBecameOrphan\n",
      "2024-02-04 18:30:42,741 bacco.sims : Reading 3749445 items for SubhaloPos\n",
      "2024-02-04 18:30:47,318 bacco.sims : Reading 3749445 items for SubhaloVel\n",
      "2024-02-04 18:30:50,202 bacco.sims : Reading 3749445 items for SubhaloLen\n",
      "2024-02-04 18:30:52,498 bacco.sims : Reading 1945855 items for GroupLen\n",
      "2024-02-04 18:30:55,162 bacco.sims : Reading 1945855 items for Group_M_Crit200\n",
      "2024-02-04 18:30:55,286 bacco.sims : Reading 1945855 items for Group_M_Crit200\n",
      "2024-02-04 18:30:55,492 bacco.sims : Reading 1945855 items for GroupNsubs\n",
      "2024-02-04 18:30:57,637 bacco.sims : Reading 1945855 items for halo_firstsub\n",
      "2024-02-04 18:30:57,925 bacco.sims : Reading 3749445 items for SubhaloRankInGr\n",
      "/scratch/mzennaro/mcnd/baccogit/bacco/simulation.py:1885: RuntimeWarning: invalid value encountered in divide\n",
      "  cat['radial_vel'][mask_orp] = (wrap_pos[:,0] * dv[:,0] + wrap_pos[:,1] * dv[:,1] + wrap_pos[:,2] * dv[:,2]) / cat['central_dist'][mask_orp]\n",
      "/scratch/mzennaro/mcnd/baccogit/bacco/mock.py:2278: RuntimeWarning: invalid value encountered in divide\n",
      "  _vhost = np.sqrt(G * _mhost / _rhost)\n",
      "/scratch/mzennaro/mcnd/baccogit/bacco/mock.py:2288: RuntimeWarning: divide by zero encountered in divide\n",
      "  * np.sqrt(1000 / _mhost)\n",
      "/scratch/mzennaro/mcnd/baccogit/bacco/mock.py:2543: RuntimeWarning: divide by zero encountered in divide\n",
      "  1.0 - time_since_accretion / mergertime\n",
      "/scratch/mzennaro/mcnd/baccogit/bacco/mock.py:2542: RuntimeWarning: invalid value encountered in sqrt\n",
      "  shrink_factor[mask_orp] = (\n",
      "2024-02-04 18:31:01,347 bacco.sims : Reading 3749445 items for SubhaloMpeak\n",
      "2024-02-04 18:31:01,775 bacco.sims : Reading 1945855 items for GroupPos\n"
     ]
    }
   ],
   "source": [
    "n = 1e-2\n",
    "fs =  0.034\n",
    "sigma = 0.134\n",
    "tmerger = 0.636\n",
    "\n",
    "LProp = ['pos', 'vel', 'central', 'm200c']\n",
    "\n",
    "## SMF as TNG\n",
    "_f = dd.io.load('/lscratch/mzennaro/Notebooks/Project_Neutrino_mocks/data/ntarget.h5')['0.0']['smf']\n",
    "\n",
    "mock = bacco.Mock(sim, LProp=LProp, fast_SHAM=True, TypeOfMock='LSHAM', SHAM_Prop='vpeak',\n",
    "                  NoOrphans=False, alpha_sf=0.5, seed=7777, df_model=5, StellarMassFunction=_f,\n",
    "                  fs=fs, sigma_Mstell=sigma, mergertime_factor=tmerger)\n",
    "\n",
    "SHAM_GalProp = 'SHAM_MStell'\n",
    "\n",
    "SHAM_Cut = mock.Prop_n(n, SHAM_GalProp)\n",
    "Mask = np.where(mock.galaxies[SHAM_GalProp] > SHAM_Cut)[0]\n",
    "gpos = mock.galaxies['pos'][Mask]"
   ]
  },
  {
   "cell_type": "code",
   "execution_count": 4,
   "metadata": {},
   "outputs": [
    {
     "data": {
      "text/plain": [
       "(167772, 3)"
      ]
     },
     "execution_count": 4,
     "metadata": {},
     "output_type": "execute_result"
    }
   ],
   "source": [
    "gpos.shape"
   ]
  },
  {
   "cell_type": "code",
   "execution_count": 11,
   "metadata": {},
   "outputs": [
    {
     "name": "stderr",
     "output_type": "stream",
     "text": [
      "2024-02-04 18:50:24,988 bacco.statistics : Computing the power spectrum with ngrid=512 and interlacing=True\n",
      "2024-02-04 18:50:24,992 bacco.statistics :  setting the grid 512 True\n",
      "2024-02-04 18:50:24,992 bacco.statistics : Computing tsc mesh with ngrid=512 and interlacing=True\n",
      "2024-02-04 18:50:24,993 bacco.statistics : starting deposit 2\n"
     ]
    },
    {
     "name": "stdout",
     "output_type": "stream",
     "text": [
      "{'ngrid': 512, 'interlacing': True, 'log_binning': False, 'log_binning_kmax': 6.283185307179586, 'log_binning_nbins': 255, 'min_k': 0.02454369260617026, 'depmethod': 'tsc', 'correct_grid': True, 'folds': 1.0}\n",
      "bacco.mesh : boxsize=256.000000 ngrid=512, nthreads=48, vel_factor=0.000000, interlacing=1, folds=1.000000, 2d=0\n",
      "bacco.mesh : allocating 1024.0 Mb\n",
      "bacco.mesh : binning of 167772 particles (1 with mass)\n",
      "bacco.mesh : Using mass = 1.000000\n"
     ]
    },
    {
     "name": "stderr",
     "output_type": "stream",
     "text": [
      "2024-02-04 18:50:25,399 bacco.statistics :  mesh done in 0.406 s\n",
      "2024-02-04 18:50:25,400 bacco.statistics :  Starting the power spectrum calculation\n"
     ]
    },
    {
     "name": "stdout",
     "output_type": "stream",
     "text": [
      "bacco.power : boxsize 256.000000; ngrid 512; nthreads 48; interlacing 1; deposit_method 2; log_binning 0; type 0; precision=single; correct_grid=1 (log=1); correct_sn=0\n",
      "bacco.power : normalise_grid1=1 normalise_grid2=1 deconvolve_grid1=1 deconvolve_grid2=1\n",
      "bacco.power : total mass 167772 (grid1) 167772 (grid2)\n",
      "bacco.power : Doing FFTW\n",
      "bacco.power: FFT took 0.270026 sec\n",
      "bacco.power : Counting modes\n"
     ]
    },
    {
     "name": "stderr",
     "output_type": "stream",
     "text": [
      "2024-02-04 18:50:28,682 bacco.statistics :  done compute.power\n",
      "2024-02-04 18:50:28,685 bacco.statistics :  power done in 3.7 s\n"
     ]
    },
    {
     "name": "stdout",
     "output_type": "stream",
     "text": [
      "bacco.power : done counting modes in 2.572344 sec\n",
      "bacco.power : Starting Fourier loop \n",
      "bacco.power : done Fourier loop in 0.003362 secs\n",
      "bacco.power : Deallocating arrays\n"
     ]
    }
   ],
   "source": [
    "ngrid = 512\n",
    "kmin = 2*np.pi/sim.header['BoxSize']\n",
    "kmax = np.pi*ngrid/sim.header['BoxSize']\n",
    "log_binning = False\n",
    "nbins = 80 if log_binning else int((kmax - kmin) / kmin)\n",
    "\n",
    "log_binning_kmax = kmax\n",
    "min_k = kmin\n",
    "log_binning_nbins = nbins\n",
    "\n",
    "pkdict = {\n",
    "    'kmin': kmin,\n",
    "    'kmax': kmax,\n",
    "    'ngrid': ngrid,\n",
    "    'log_binning': log_binning,\n",
    "    'nbins': nbins\n",
    "}\n",
    "\n",
    "bacco.configuration.update({'pknbody': {'ngrid': ngrid}})\n",
    "bacco.configuration.update({'pknbody': {'log_binning': log_binning}})\n",
    "bacco.configuration.update({'pknbody': {'min_k': min_k}})\n",
    "bacco.configuration.update({'pknbody': {'log_binning_kmax': log_binning_kmax}})\n",
    "bacco.configuration.update({'pknbody': {'log_binning_nbins': log_binning_nbins}})\n",
    "\n",
    "print(bacco.config['pknbody'])\n",
    "\n",
    "\n",
    "gpk = bacco.statistics.compute_powerspectrum(\n",
    "    ngrid=ngrid,\n",
    "    box=sim.header['BoxSize'],\n",
    "    pos=gpos,\n",
    "    vel=None,\n",
    "    mass=None,\n",
    "    interlacing=True,\n",
    "    unit_in_Mpc=1,\n",
    "    deposit_method='tsc',\n",
    "    bs_method=None,\n",
    "    bs_num_triangles=10000,\n",
    "    bs_k1=0.01,\n",
    "    bs_k2=None,\n",
    "    bs_deltak=None,\n",
    "    log_binning=log_binning,\n",
    "    kmin=kmin,\n",
    "    kmax=kmax,\n",
    "    nbins=nbins,\n",
    "    correct_grid=True,\n",
    "    deconvolve_grid = True,\n",
    "    normalise_grid = True,\n",
    "    totalmass=None,\n",
    "    correct_shotnoise=False,\n",
    "    zspace=False,\n",
    "    cosmology=sim.Cosmology,\n",
    "    pmulti_interp='polyfit',\n",
    "    nthreads=None,\n",
    "    grid1=None,\n",
    "    dilution=None,\n",
    "    folds=None,\n",
    "    compute_correlation=False,\n",
    "    compute_power2d=False,\n",
    "    jack_error=False,\n",
    "    n_jack=None\n",
    ")"
   ]
  },
  {
   "cell_type": "code",
   "execution_count": 6,
   "metadata": {},
   "outputs": [
    {
     "name": "stderr",
     "output_type": "stream",
     "text": [
      "2024-02-04 18:44:15,933 bacco.statistics : Computing the cross power spectrum with ngrid=512 and interlacing=True\n",
      "2024-02-04 18:44:15,937 bacco.statistics : Computing tsc mesh with ngrid=512 and interlacing=True\n",
      "2024-02-04 18:44:15,938 bacco.statistics : starting deposit 2\n",
      "2024-02-04 18:44:16,340 bacco.statistics :  mesh done in 0.403 s\n",
      "2024-02-04 18:44:16,341 bacco.statistics : Computing tsc mesh with ngrid=512 and interlacing=True\n",
      "2024-02-04 18:44:16,341 bacco.statistics : starting deposit 2\n",
      "2024-02-04 18:44:16,980 bacco.statistics :  mesh done in 0.639 s\n"
     ]
    },
    {
     "name": "stdout",
     "output_type": "stream",
     "text": [
      "bacco.mesh : boxsize=256.000000 ngrid=512, nthreads=48, vel_factor=0.000000, interlacing=1, folds=1.000000, 2d=0\n",
      "bacco.mesh : allocating 1024.0 Mb\n",
      "bacco.mesh : binning of 167772 particles (1 with mass)\n",
      "bacco.mesh : Using mass = 1.000000\n",
      "bacco.mesh : boxsize=256.000000 ngrid=512, nthreads=48, vel_factor=0.000000, interlacing=1, folds=1.000000, 2d=0\n",
      "bacco.mesh : allocating 1024.0 Mb\n",
      "bacco.mesh : binning of 7077888 particles (1 with mass)\n",
      "bacco.mesh : Using mass = 1.000000\n",
      "bacco.power : boxsize 256.000000; ngrid 512; nthreads 48; interlacing 1; deposit_method 2; log_binning 0; type 1; precision=single; correct_grid=1 (log=1); correct_sn=0\n",
      "bacco.power : normalise_grid1=1 normalise_grid2=1 deconvolve_grid1=1 deconvolve_grid2=1\n",
      "bacco.power : total mass 167772 (grid1) 7.07789e+06 (grid2)\n",
      "bacco.power : Doing FFTW\n",
      "bacco.power: FFT took 0.689919 sec\n",
      "bacco.power : Counting modes\n"
     ]
    },
    {
     "name": "stderr",
     "output_type": "stream",
     "text": [
      "2024-02-04 18:44:22,425 bacco.statistics :  ...done in 6.49 s\n"
     ]
    },
    {
     "name": "stdout",
     "output_type": "stream",
     "text": [
      "bacco.power : done counting modes in 3.256674 sec\n",
      "bacco.power : Starting Fourier loop \n",
      "bacco.power : done Fourier loop in 0.011290 secs\n",
      "bacco.power : Deallocating arrays\n"
     ]
    }
   ],
   "source": [
    "pgm = bacco.statistics.compute_crossspectrum(\n",
    "    pos1=gpos,\n",
    "    pos2=sim.sdm['pos'],\n",
    "    vel1=None,\n",
    "    vel2=None,\n",
    "    grid2=None,\n",
    "    ngrid=ngrid,\n",
    "    box=sim.header['BoxSize'],\n",
    "    mass1=None,\n",
    "    mass2=None,\n",
    "    bs_method=None,\n",
    "    bs_num_triangles=10000,\n",
    "    bs_k1=0.01,\n",
    "    bs_k2=None,\n",
    "    bs_deltak=None,\n",
    "    interlacing=True,\n",
    "    deconvolve_grid1=True,\n",
    "    deconvolve_grid2=True,\n",
    "    normalise_grid1 = True,\n",
    "    normalise_grid2 = True,\n",
    "    deposit_method='tsc',\n",
    "    kmin=kmin,\n",
    "    kmax=kmax,\n",
    "    nbins=nbins,\n",
    "    log_binning=log_binning,\n",
    "    correct_grid=True,\n",
    "    zspace=False,\n",
    "    folds=1,\n",
    "    cosmology=sim.Cosmology,\n",
    "    nthreads=None\n",
    ")"
   ]
  },
  {
   "cell_type": "code",
   "execution_count": 7,
   "metadata": {},
   "outputs": [
    {
     "name": "stderr",
     "output_type": "stream",
     "text": [
      "2024-02-04 18:44:57,395 bacco.baryons : computing baryon profiles and apply displacements for 29410 halos.\n",
      "2024-02-04 18:44:57,405 bacco.sims : Reading 3526917 items for sDM/len\n"
     ]
    },
    {
     "name": "stdout",
     "output_type": "stream",
     "text": [
      "0"
     ]
    },
    {
     "name": "stderr",
     "output_type": "stream",
     "text": [
      "2024-02-04 18:44:59,094 bacco.baryons : displacement for 29410 halos computed and applied in 1.7 seconds\n",
      "2024-02-04 18:44:59,095 bacco.baryons : \n",
      " -------   BCM   --------- \n",
      " \n",
      "2024-02-04 18:44:59,096 bacco.baryons : Time to create the Baryon Simulation: 2.8 seconds\n",
      "2024-02-04 18:44:59,096 bacco.baryons : Memory used to create the Baryon Simulation: 947.712 Megabytes\n"
     ]
    }
   ],
   "source": [
    "bcmsim = bacco.Baryons(sim, sim.Cosmology,\n",
    "                       M_c=1.2e14, eta=0.5, beta=0.6,\n",
    "                       M1_z0_cen=1.526e11, epsilon_z0_cen=0.023, alpha_z0_cen=-1.779, gamma_z0_cen=0.547, delta_z0_cen=4.394,\n",
    "                       M1_fsat=1.59, epsilon_fsat=1.56, alpha_fsat=0.16, gamma_fsat=1.67, delta_fsat=0.99,\n",
    "                       M_r = 1e16, beta_r=2., sigma_r=0.1, mu_r =0.3, eject_model='A',\n",
    "                       theta_inn = 0.1, M_inn= 2.3e13, mu_inn=0.31, theta_out = 1.1, R_h = 0.015, alpha_g = 2.,\n",
    "                       displace_dm=False, displace_sdm=True, component_props=[], single_component=None, mode ='truncated', ParticlesRadius = 1.,\n",
    "                       bin=(0.01,90.,100), logger_level=None,  halo_mass_range=(1e2,1e6), nthreads = None,\n",
    "                       halos=None, use_cbaryon=True, alpha_agn = 1., T_agn=1e5, m_agn=0.7, T_field=1e6,\n",
    "                       A_nth=0.495, bound_model='powerlaw', tag='standardAGN'\n",
    "                      )"
   ]
  },
  {
   "cell_type": "code",
   "execution_count": 8,
   "metadata": {},
   "outputs": [
    {
     "name": "stderr",
     "output_type": "stream",
     "text": [
      "2024-02-04 18:45:36,206 bacco.statistics : Computing the cross power spectrum with ngrid=512 and interlacing=True\n",
      "2024-02-04 18:45:36,209 bacco.statistics : Computing tsc mesh with ngrid=512 and interlacing=True\n",
      "2024-02-04 18:45:36,210 bacco.statistics : starting deposit 2\n",
      "2024-02-04 18:45:36,610 bacco.statistics :  mesh done in 0.401 s\n",
      "2024-02-04 18:45:36,611 bacco.statistics : Computing tsc mesh with ngrid=512 and interlacing=True\n",
      "2024-02-04 18:45:36,612 bacco.statistics : starting deposit 2\n"
     ]
    },
    {
     "name": "stdout",
     "output_type": "stream",
     "text": [
      "bacco.mesh : boxsize=256.000000 ngrid=512, nthreads=48, vel_factor=0.000000, interlacing=1, folds=1.000000, 2d=0\n",
      "bacco.mesh : allocating 1024.0 Mb\n",
      "bacco.mesh : binning of 167772 particles (1 with mass)\n",
      "bacco.mesh : Using mass = 1.000000\n",
      "bacco.mesh : boxsize=256.000000 ngrid=512, nthreads=48, vel_factor=0.000000, interlacing=1, folds=1.000000, 2d=0\n",
      "bacco.mesh : allocating 1024.0 Mb\n"
     ]
    },
    {
     "name": "stderr",
     "output_type": "stream",
     "text": [
      "2024-02-04 18:45:37,139 bacco.statistics :  mesh done in 0.527 s\n"
     ]
    },
    {
     "name": "stdout",
     "output_type": "stream",
     "text": [
      "bacco.mesh : binning of 7077888 particles (1 with mass)\n",
      "bacco.mesh : Using mass = 1.000000\n",
      "bacco.power : boxsize 256.000000; ngrid 512; nthreads 48; interlacing 1; deposit_method 2; log_binning 0; type 1; precision=single; correct_grid=1 (log=1); correct_sn=0\n",
      "bacco.power : normalise_grid1=1 normalise_grid2=1 deconvolve_grid1=1 deconvolve_grid2=1\n",
      "bacco.power : total mass 167772 (grid1) 7.07789e+06 (grid2)\n",
      "bacco.power : Doing FFTW\n",
      "bacco.power: FFT took 0.439192 sec\n",
      "bacco.power : Counting modes\n"
     ]
    },
    {
     "name": "stderr",
     "output_type": "stream",
     "text": [
      "2024-02-04 18:45:41,000 bacco.statistics :  ...done in 4.79 s\n"
     ]
    },
    {
     "name": "stdout",
     "output_type": "stream",
     "text": [
      "bacco.power : done counting modes in 2.683295 sec\n",
      "bacco.power : Starting Fourier loop \n",
      "bacco.power : done Fourier loop in 0.008271 secs\n",
      "bacco.power : Deallocating arrays\n"
     ]
    }
   ],
   "source": [
    "pgm_bcm = bacco.statistics.compute_crossspectrum(\n",
    "    pos1=gpos,\n",
    "    pos2=bcmsim.BaryonSimulation.sdm['pos'],\n",
    "    vel1=None,\n",
    "    vel2=None,\n",
    "    grid2=None,\n",
    "    ngrid=ngrid,\n",
    "    box=sim.header['BoxSize'],\n",
    "    mass1=None,\n",
    "    mass2=None,\n",
    "    bs_method=None,\n",
    "    bs_num_triangles=10000,\n",
    "    bs_k1=0.01,\n",
    "    bs_k2=None,\n",
    "    bs_deltak=None,\n",
    "    interlacing=True,\n",
    "    deconvolve_grid1=True,\n",
    "    deconvolve_grid2=True,\n",
    "    normalise_grid1 = True,\n",
    "    normalise_grid2 = True,\n",
    "    deposit_method='tsc',\n",
    "    kmin=kmin,\n",
    "    kmax=kmax,\n",
    "    nbins=nbins,\n",
    "    log_binning=log_binning,\n",
    "    correct_grid=True,\n",
    "    zspace=False,\n",
    "    folds=1,\n",
    "    cosmology=sim.Cosmology,\n",
    "    nthreads=None\n",
    ")"
   ]
  },
  {
   "cell_type": "code",
   "execution_count": 14,
   "metadata": {},
   "outputs": [
    {
     "name": "stderr",
     "output_type": "stream",
     "text": [
      "2024-02-04 18:52:04,523 bacco.statistics : Computing the power spectrum with ngrid=512 and interlacing=True\n",
      "2024-02-04 18:52:04,525 bacco.statistics :  setting the grid 512 True\n",
      "2024-02-04 18:52:04,526 bacco.statistics : Computing tsc mesh with ngrid=512 and interlacing=True\n",
      "2024-02-04 18:52:04,527 bacco.statistics : starting deposit 2\n",
      "2024-02-04 18:52:05,086 bacco.statistics :  mesh done in 0.56 s\n",
      "2024-02-04 18:52:05,087 bacco.statistics :  Starting the power spectrum calculation\n"
     ]
    },
    {
     "name": "stdout",
     "output_type": "stream",
     "text": [
      "bacco.mesh : boxsize=256.000000 ngrid=512, nthreads=48, vel_factor=0.000000, interlacing=1, folds=1.000000, 2d=0\n",
      "bacco.mesh : allocating 1024.0 Mb\n",
      "bacco.mesh : binning of 7077888 particles (1 with mass)\n",
      "bacco.mesh : Using mass = 1.000000\n",
      "bacco.power : boxsize 256.000000; ngrid 512; nthreads 48; interlacing 1; deposit_method 2; log_binning 0; type 0; precision=single; correct_grid=1 (log=1); correct_sn=0\n",
      "bacco.power : normalise_grid1=1 normalise_grid2=1 deconvolve_grid1=1 deconvolve_grid2=1\n",
      "bacco.power : total mass 7.07789e+06 (grid1) 7.07789e+06 (grid2)\n",
      "bacco.power : Doing FFTW\n",
      "bacco.power: FFT took 0.344671 sec\n",
      "bacco.power : Counting modes\n"
     ]
    },
    {
     "name": "stderr",
     "output_type": "stream",
     "text": [
      "2024-02-04 18:52:08,203 bacco.statistics :  done compute.power\n",
      "2024-02-04 18:52:08,207 bacco.statistics :  power done in 3.68 s\n"
     ]
    },
    {
     "name": "stdout",
     "output_type": "stream",
     "text": [
      "bacco.power : done counting modes in 2.468951 sec\n",
      "bacco.power : Starting Fourier loop \n",
      "bacco.power : done Fourier loop in 0.005106 secs\n",
      "bacco.power : Deallocating arrays\n"
     ]
    }
   ],
   "source": [
    "pmm = bacco.statistics.compute_powerspectrum(\n",
    "    ngrid=ngrid,\n",
    "    box=sim.header['BoxSize'],\n",
    "    pos=sim.sdm['pos'],\n",
    "    vel=None,\n",
    "    mass=None,\n",
    "    interlacing=True,\n",
    "    unit_in_Mpc=1,\n",
    "    deposit_method='tsc',\n",
    "    bs_method=None,\n",
    "    bs_num_triangles=10000,\n",
    "    bs_k1=0.01,\n",
    "    bs_k2=None,\n",
    "    bs_deltak=None,\n",
    "    log_binning=log_binning,\n",
    "    kmin=kmin,\n",
    "    kmax=kmax,\n",
    "    nbins=nbins,\n",
    "    correct_grid=True,\n",
    "    deconvolve_grid = True,\n",
    "    normalise_grid = True,\n",
    "    totalmass=None,\n",
    "    correct_shotnoise=False,\n",
    "    zspace=False,\n",
    "    cosmology=sim.Cosmology,\n",
    "    pmulti_interp='polyfit',\n",
    "    nthreads=None,\n",
    "    grid1=None,\n",
    "    dilution=None,\n",
    "    folds=None,\n",
    "    compute_correlation=False,\n",
    "    compute_power2d=False,\n",
    "    jack_error=False,\n",
    "    n_jack=None\n",
    ")"
   ]
  },
  {
   "cell_type": "code",
   "execution_count": 15,
   "metadata": {},
   "outputs": [
    {
     "name": "stderr",
     "output_type": "stream",
     "text": [
      "2024-02-04 18:52:28,725 bacco.statistics : Computing the power spectrum with ngrid=512 and interlacing=True\n",
      "2024-02-04 18:52:28,729 bacco.statistics :  setting the grid 512 True\n",
      "2024-02-04 18:52:28,730 bacco.statistics : Computing tsc mesh with ngrid=512 and interlacing=True\n",
      "2024-02-04 18:52:28,731 bacco.statistics : starting deposit 2\n"
     ]
    },
    {
     "name": "stdout",
     "output_type": "stream",
     "text": [
      "bacco.mesh : boxsize=256.000000 ngrid=512, nthreads=48, vel_factor=0.000000, interlacing=1, folds=1.000000, 2d=0\n",
      "bacco.mesh : allocating 1024.0 Mb\n"
     ]
    },
    {
     "name": "stderr",
     "output_type": "stream",
     "text": [
      "2024-02-04 18:52:29,306 bacco.statistics :  mesh done in 0.576 s\n",
      "2024-02-04 18:52:29,307 bacco.statistics :  Starting the power spectrum calculation\n"
     ]
    },
    {
     "name": "stdout",
     "output_type": "stream",
     "text": [
      "bacco.mesh : binning of 7077888 particles (1 with mass)\n",
      "bacco.mesh : Using mass = 1.000000\n",
      "bacco.power : boxsize 256.000000; ngrid 512; nthreads 48; interlacing 1; deposit_method 2; log_binning 0; type 0; precision=single; correct_grid=1 (log=1); correct_sn=0\n",
      "bacco.power : normalise_grid1=1 normalise_grid2=1 deconvolve_grid1=1 deconvolve_grid2=1\n",
      "bacco.power : total mass 7.07789e+06 (grid1) 7.07789e+06 (grid2)\n",
      "bacco.power : Doing FFTW\n",
      "bacco.power: FFT took 0.257381 sec\n",
      "bacco.power : Counting modes\n"
     ]
    },
    {
     "name": "stderr",
     "output_type": "stream",
     "text": [
      "2024-02-04 18:52:32,687 bacco.statistics :  done compute.power\n",
      "2024-02-04 18:52:32,690 bacco.statistics :  power done in 3.96 s\n"
     ]
    },
    {
     "name": "stdout",
     "output_type": "stream",
     "text": [
      "bacco.power : done counting modes in 2.653953 sec\n",
      "bacco.power : Starting Fourier loop \n",
      "bacco.power : done Fourier loop in 0.003591 secs\n",
      "bacco.power : Deallocating arrays\n"
     ]
    }
   ],
   "source": [
    "pmm_bcm = bacco.statistics.compute_powerspectrum(\n",
    "    ngrid=ngrid,\n",
    "    box=sim.header['BoxSize'],\n",
    "    pos=bcmsim.BaryonSimulation.sdm['pos'],\n",
    "    vel=None,\n",
    "    mass=None,\n",
    "    interlacing=True,\n",
    "    unit_in_Mpc=1,\n",
    "    deposit_method='tsc',\n",
    "    bs_method=None,\n",
    "    bs_num_triangles=10000,\n",
    "    bs_k1=0.01,\n",
    "    bs_k2=None,\n",
    "    bs_deltak=None,\n",
    "    log_binning=log_binning,\n",
    "    kmin=kmin,\n",
    "    kmax=kmax,\n",
    "    nbins=nbins,\n",
    "    correct_grid=True,\n",
    "    deconvolve_grid = True,\n",
    "    normalise_grid = True,\n",
    "    totalmass=None,\n",
    "    correct_shotnoise=False,\n",
    "    zspace=False,\n",
    "    cosmology=sim.Cosmology,\n",
    "    pmulti_interp='polyfit',\n",
    "    nthreads=None,\n",
    "    grid1=None,\n",
    "    dilution=None,\n",
    "    folds=None,\n",
    "    compute_correlation=False,\n",
    "    compute_power2d=False,\n",
    "    jack_error=False,\n",
    "    n_jack=None\n",
    ")"
   ]
  },
  {
   "cell_type": "code",
   "execution_count": 17,
   "metadata": {},
   "outputs": [],
   "source": [
    "data = {\n",
    "    'pgg': gpk,\n",
    "    'pgm': pgm,\n",
    "    'pgm_bcm': pgm_bcm,\n",
    "    'pmm': pmm,\n",
    "    'pmm_bcm': pmm_bcm\n",
    "}\n",
    "\n",
    "fname = 'nenya_z0_pgg_pgm_pgm_bcm.pickle'\n",
    "with open(fname, 'wb') as f:\n",
    "    pickle.dump(data, f)"
   ]
  },
  {
   "cell_type": "code",
   "execution_count": 22,
   "metadata": {},
   "outputs": [
    {
     "data": {
      "image/png": "[encoded data removed]",
      "text/plain": [
       "<Figure size 576x432 with 1 Axes>"
      ]
     },
     "metadata": {
      "needs_background": "light"
     },
     "output_type": "display_data"
    }
   ],
   "source": [
    "fig, ax = plt.subplots(1, 1, figsize=(8, 6))\n",
    "\n",
    "ax.loglog(gpk['k'], gpk['pk'], lw=3, label=r'$P_{\\rm gg}$')\n",
    "ax.loglog(pgm['k'], pgm['pk'], lw=3, label=r'$P_{\\rm gm}$')\n",
    "ax.loglog(pgm_bcm['k'], pgm_bcm['pk'], lw=3, label=r'$P_{\\rm gm}$+BCM')\n",
    "ax.loglog(pmm['k'], pmm['pk'], lw=3, label=r'$P_{\\rm mm}$')\n",
    "ax.loglog(pmm_bcm['k'], pmm_bcm['pk'], lw=3, label=r'$P_{\\rm mm}$+BCM')\n",
    "ax.legend(fontsize=23)\n",
    "\n",
    "ax.set_xlabel(r'$k \\,\\, [h \\,\\, \\mathrm{Mpc}^{-1}]$', fontsize=23)\n",
    "ax.set_ylabel(r'$P(k) \\,\\, [h^{-3} \\,\\, \\mathrm{Mpc}^3]$', fontsize=23)\n",
    "bacco.set_logticks(ax)\n",
    "\n",
    "plt.show()"
   ]
  },
  {
   "cell_type": "code",
   "execution_count": 26,
   "metadata": {},
   "outputs": [
    {
     "data": {
      "image/png": "[encoded data removed]",
      "text/plain": [
       "<Figure size 576x432 with 1 Axes>"
      ]
     },
     "metadata": {
      "needs_background": "light"
     },
     "output_type": "display_data"
    }
   ],
   "source": [
    "fig, ax = plt.subplots(1, 1, figsize=(8, 6))\n",
    "\n",
    "ax.axhline(1, color='k', lw=1, ls='-')\n",
    "ax.axvline(0.75, color='k', lw=1, ls='--')\n",
    "ax.semilogx(pgm['k'], pgm_bcm['pk'] / pgm['pk'], lw=3, label=r'$P_{\\rm gm}$')\n",
    "ax.semilogx(pmm['k'], pmm_bcm['pk'] / pmm['pk'], lw=3, label=r'$P_{\\rm mm}$')\n",
    "ax.legend(fontsize=23)\n",
    "\n",
    "ax.set_xlabel(r'$k \\,\\, [h \\,\\, \\mathrm{Mpc}^{-1}]$', fontsize=23)\n",
    "ax.set_ylabel(r'$R = $BCM / DMO', fontsize=23)\n",
    "bacco.set_logticks(ax, axis='x')\n",
    "\n",
    "plt.show()"
   ]
  }
 ],
 "metadata": {
  "kernelspec": {
   "display_name": "mcnd",
   "language": "python",
   "name": "python3"
  },
  "language_info": {
   "codemirror_mode": {
    "name": "ipython",
    "version": 3
   },
   "file_extension": ".py",
   "mimetype": "text/x-python",
   "name": "python",
   "nbconvert_exporter": "python",
   "pygments_lexer": "ipython3",
   "version": "3.9.17"
  }
 },
 "nbformat": 4,
 "nbformat_minor": 2
}
