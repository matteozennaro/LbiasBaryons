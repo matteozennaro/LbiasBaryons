{
 "cells": [
  {
   "cell_type": "markdown",
   "metadata": {},
   "source": [
    "# Hybrid Lagrangian bias expansion with baryons\n",
    "### - Apply bcm and compare the 15 operators of the lbias model -\n",
    "\n",
    "Project idea:\n",
    "- apply bcm to a simulation\n",
    "- measure 15 terms of lbias before and after baryonification\n",
    "- does bcm change mostly $P_{11}$ or all terms?\n",
    "- create galaxy mock catalogue\n",
    "- can $b_{\\nabla}$ absorb all baryon effects? or we need to use the baryonified $P_{11}$? or all baryonified terms?"
   ]
  },
  {
   "cell_type": "code",
   "execution_count": 64,
   "metadata": {},
   "outputs": [],
   "source": [
    "import numpy as np\n",
    "import matplotlib.pyplot as plt\n",
    "import bacco"
   ]
  },
  {
   "cell_type": "markdown",
   "metadata": {},
   "source": [
    "# Load sim"
   ]
  },
  {
   "cell_type": "code",
   "execution_count": 65,
   "metadata": {},
   "outputs": [
    {
     "name": "stderr",
     "output_type": "stream",
     "text": [
      "2024-02-01 20:54:14,186 bacco.sims : Initialising simulation Default\n",
      "2024-02-01 20:54:14,187 bacco.sims : try /dipc_storage/cosmosims/MultiCosmology_N768/nenya_N768_output/0.00/groups_081/fof_subhalo_history_tab_orph_wweight_081\n",
      "2024-02-01 20:54:14,190 bacco.sims : Loading /dipc_storage/cosmosims/MultiCosmology_N768/nenya_N768_output/0.00/groups_081/fof_subhalo_history_tab_orph_wweight_081\n",
      "2024-02-01 20:54:14,211 bacco.cosmo :    initialization took 0.000 secs\n",
      "2024-02-01 20:54:14,341 bacco.sims : ...done in 0.0277 s\n"
     ]
    },
    {
     "name": "stdout",
     "output_type": "stream",
     "text": [
      "-----------------------------------------------\n",
      "Cosmology \"Default\", de_model \"LCDM\" \n",
      "- Paramerers: Omega_cdm = 0.265, Omega_b = 0.05, Omega_de = 0.685, \n",
      "Hubble=0.6, Sigma_8=0.9, A_s=None, ns=1.01, neutrino_mass=0.0, \n",
      "Omega_r=0.0, Omega_k=0.0, tau=0.0952, w0=-1.0, wa=0.0\n",
      "- Power Spectrum: CAMB,   Expansion Factor: 0.9990212338420196,   ReNormalizeInputSpectrum: (False,)\n",
      "-----------------------------------------------\n"
     ]
    }
   ],
   "source": [
    "basedir = '/dipc_storage/cosmosims/MultiCosmology_N768/nenya_N768_output/0.00/'\n",
    "halo_file = 'groups_000/fof_subhalo_history_tab_orph_wweight_000'\n",
    "atarget = 1\n",
    "sim = bacco.Simulation(basedir=basedir, halo_file=halo_file, closest_expfactor=atarget)\n",
    "print(sim.Cosmology)"
   ]
  },
  {
   "cell_type": "markdown",
   "metadata": {},
   "source": [
    "# Baryonify sim\n",
    "\n",
    "After this we have a DMO sim and a BCM sim"
   ]
  },
  {
   "cell_type": "code",
   "execution_count": 66,
   "metadata": {},
   "outputs": [
    {
     "name": "stderr",
     "output_type": "stream",
     "text": [
      "2024-02-01 20:54:14,558 bacco.sims : Reading 1945855 items for Group_M_Crit200\n",
      "2024-02-01 20:54:14,750 bacco.sims : Reading 1945855 items for Group_M_Crit200\n",
      "2024-02-01 20:54:15,007 bacco.sims : Reconstructing sDM\n",
      "2024-02-01 20:54:15,024 bacco.sims : Reading 3526917 items for sDM/ih_pos\n",
      "2024-02-01 20:54:15,248 bacco.sims : Reading 1945855 items for GroupPos\n",
      "2024-02-01 20:54:15,385 bacco.sims : Reading 3526917 items for sDM/ih_vel\n",
      "2024-02-01 20:54:15,526 bacco.sims : Reading 1945855 items for GroupVel\n",
      "2024-02-01 20:54:15,632 bacco.sims : Reading 3526917 items for sDM/offset\n",
      "2024-02-01 20:54:15,968 bacco.sims : Reading 3526917 items for sDM/pos\n",
      "2024-02-01 20:54:16,222 bacco.sims : Reading 3526917 items for sDM/vel\n",
      "2024-02-01 20:54:16,473 bacco.sims : Reading 3526917 items for sDM/ih_ids\n",
      "2024-02-01 20:54:16,617 bacco.sims : Reading 3526917 items for sDM/ids\n",
      "2024-02-01 20:54:16,811 bacco.sims : Done reconstructing sDM\n",
      "2024-02-01 20:54:16,812 bacco.baryons : computing baryon profiles and apply displacements for 29410 halos.\n",
      "2024-02-01 20:54:16,818 bacco.sims : Reading 3526917 items for sDM/len\n"
     ]
    },
    {
     "name": "stdout",
     "output_type": "stream",
     "text": [
      "0"
     ]
    },
    {
     "name": "stderr",
     "output_type": "stream",
     "text": [
      "2024-02-01 20:54:18,482 bacco.baryons : displacement for 29410 halos computed and applied in 1.67 seconds\n",
      "2024-02-01 20:54:18,483 bacco.baryons : \n",
      " -------   BCM   --------- \n",
      " \n",
      "2024-02-01 20:54:18,484 bacco.baryons : Time to create the Baryon Simulation: 4.1 seconds\n",
      "2024-02-01 20:54:18,484 bacco.baryons : Memory used to create the Baryon Simulation: 730.906624 Megabytes\n"
     ]
    }
   ],
   "source": [
    "bcmsim = bacco.Baryons(sim, sim.Cosmology,\n",
    "                       M_c=1.2e14, eta=0.5, beta=0.6,\n",
    "                       M1_z0_cen=1.526e11, epsilon_z0_cen=0.023, alpha_z0_cen=-1.779, gamma_z0_cen=0.547, delta_z0_cen=4.394,\n",
    "                       M1_fsat=1.59, epsilon_fsat=1.56, alpha_fsat=0.16, gamma_fsat=1.67, delta_fsat=0.99,\n",
    "                       M_r = 1e16, beta_r=2., sigma_r=0.1, mu_r =0.3, eject_model='A',\n",
    "                       theta_inn = 0.1, M_inn= 2.3e13, mu_inn=0.31, theta_out = 1.1, R_h = 0.015, alpha_g = 2.,\n",
    "                       displace_dm=False, displace_sdm=True, component_props=[], single_component=None, mode ='truncated', ParticlesRadius = 1.,\n",
    "                       bin=(0.01,90.,100), logger_level=None,  halo_mass_range=(1e2,1e6), nthreads = None,\n",
    "                       halos=None, use_cbaryon=True, alpha_agn = 1., T_agn=1e5, m_agn=0.7, T_field=1e6,\n",
    "                       A_nth=0.495, bound_model='powerlaw', tag='standardAGN'\n",
    "                      )"
   ]
  },
  {
   "cell_type": "code",
   "execution_count": 67,
   "metadata": {},
   "outputs": [
    {
     "name": "stdout",
     "output_type": "stream",
     "text": [
      "{'ngrid': 512, 'interlacing': True, 'log_binning': False, 'log_binning_kmax': 6.283185307179586, 'log_binning_nbins': 255, 'min_k': 0.02454369260617026, 'depmethod': 'tsc', 'correct_grid': True, 'folds': 1.0}\n"
     ]
    }
   ],
   "source": [
    "ngrid = 512\n",
    "kmin = 2*np.pi/sim.header['BoxSize']\n",
    "kmax = np.pi*ngrid/sim.header['BoxSize']\n",
    "log_binning = False\n",
    "nbins = 80 if log_binning else int((kmax - kmin) / kmin)\n",
    "\n",
    "log_binning_kmax = kmax\n",
    "min_k = kmin\n",
    "log_binning_nbins = nbins\n",
    "\n",
    "pkdict = {\n",
    "    'kmin': kmin,\n",
    "    'kmax': kmax,\n",
    "    'ngrid': ngrid,\n",
    "    'log_binning': log_binning,\n",
    "    'nbins': nbins\n",
    "}\n",
    "\n",
    "bacco.configuration.update({'pknbody': {'ngrid': ngrid}})\n",
    "bacco.configuration.update({'pknbody': {'log_binning': log_binning}})\n",
    "bacco.configuration.update({'pknbody': {'min_k': min_k}})\n",
    "bacco.configuration.update({'pknbody': {'log_binning_kmax': log_binning_kmax}})\n",
    "bacco.configuration.update({'pknbody': {'log_binning_nbins': log_binning_nbins}})\n",
    "\n",
    "print(bacco.config['pknbody'])"
   ]
  },
  {
   "cell_type": "code",
   "execution_count": 68,
   "metadata": {},
   "outputs": [
    {
     "name": "stderr",
     "output_type": "stream",
     "text": [
      "2024-02-01 20:54:18,944 bacco.sims : Computing sdm-P(k)\n",
      "2024-02-01 20:54:18,945 bacco.sims : Reconstructing sDM\n",
      "2024-02-01 20:54:19,037 bacco.sims : Reading 3526917 items for sDM/ih_pos\n",
      "2024-02-01 20:54:19,223 bacco.sims : Reading 1945855 items for GroupPos\n",
      "2024-02-01 20:54:19,385 bacco.sims : Reading 3526917 items for sDM/ih_vel\n",
      "2024-02-01 20:54:19,526 bacco.sims : Reading 1945855 items for GroupVel\n",
      "2024-02-01 20:54:19,645 bacco.sims : Reading 3526917 items for sDM/offset\n",
      "2024-02-01 20:54:19,962 bacco.sims : Reading 3526917 items for sDM/pos\n",
      "2024-02-01 20:54:20,184 bacco.sims : Reading 3526917 items for sDM/vel\n",
      "2024-02-01 20:54:20,444 bacco.sims : Reading 3526917 items for sDM/ih_ids\n",
      "2024-02-01 20:54:20,582 bacco.sims : Reading 3526917 items for sDM/ids\n",
      "2024-02-01 20:54:20,784 bacco.sims : Done reconstructing sDM\n",
      "2024-02-01 20:54:20,805 bacco.statistics : Computing the power spectrum with ngrid=512 and interlacing=True\n",
      "2024-02-01 20:54:21,034 bacco.cosmo :    computed CAMB power spectrum at z=0.00 in 0.228 secs\n",
      "2024-02-01 20:54:21,085 bacco.cosmo :    created Pk(z=0) tab from k 8.333333244081587e-05 to 100000.0 h/Mpc\n",
      "2024-02-01 20:54:21,142 bacco.cosmo :    computed halofit at z=0.00 for 'Default' in 0.002 secs\n",
      "2024-02-01 20:54:21,143 bacco.statistics :  setting the grid 512 True\n",
      "2024-02-01 20:54:21,143 bacco.statistics : Computing tsc mesh with ngrid=512 and interlacing=True\n",
      "2024-02-01 20:54:21,144 bacco.statistics : starting deposit 2\n"
     ]
    },
    {
     "name": "stdout",
     "output_type": "stream",
     "text": [
      "bacco.mesh : boxsize=256.000000 ngrid=512, nthreads=48, vel_factor=0.000000, interlacing=1, folds=1.000000, 2d=0\n",
      "bacco.mesh : allocating 1024.0 Mb\n"
     ]
    },
    {
     "name": "stderr",
     "output_type": "stream",
     "text": [
      "2024-02-01 20:54:21,936 bacco.statistics :  mesh done in 0.793 s\n",
      "2024-02-01 20:54:21,937 bacco.statistics :  Starting the power spectrum calculation\n"
     ]
    },
    {
     "name": "stdout",
     "output_type": "stream",
     "text": [
      "bacco.mesh : binning of 7077888 particles (7077888 with mass)\n",
      "bacco.power : boxsize 256.000000; ngrid 512; nthreads 48; interlacing 1; deposit_method 2; log_binning 0; type 0; precision=single; correct_grid=1 (log=1); correct_sn=0\n",
      "bacco.power : normalise_grid1=1 normalise_grid2=1 deconvolve_grid1=1 deconvolve_grid2=1\n",
      "bacco.power : total mass 7.07789e+06 (grid1) 7.07789e+06 (grid2)\n",
      "bacco.power : Doing FFTW\n",
      "bacco.power: FFT took 0.368815 sec\n",
      "bacco.power : Counting modes\n"
     ]
    },
    {
     "name": "stderr",
     "output_type": "stream",
     "text": [
      "2024-02-01 20:54:25,696 bacco.statistics :  done compute.power\n",
      "2024-02-01 20:54:25,700 bacco.statistics :  power done in 4.9 s\n"
     ]
    },
    {
     "name": "stdout",
     "output_type": "stream",
     "text": [
      "bacco.power : done counting modes in 2.812752 sec\n",
      "bacco.power : Starting Fourier loop \n",
      "bacco.power : done Fourier loop in 0.008425 secs\n",
      "bacco.power : Deallocating arrays\n"
     ]
    }
   ],
   "source": [
    "dmopk = sim.get_sdmPower(**pkdict)"
   ]
  },
  {
   "cell_type": "code",
   "execution_count": 69,
   "metadata": {},
   "outputs": [
    {
     "name": "stderr",
     "output_type": "stream",
     "text": [
      "2024-02-01 20:54:25,887 bacco.sims : Computing sdm-P(k)\n",
      "2024-02-01 20:54:25,910 bacco.statistics : Computing the power spectrum with ngrid=512 and interlacing=True\n",
      "2024-02-01 20:54:26,137 bacco.cosmo :    computed CAMB power spectrum at z=0.00 in 0.226 secs\n",
      "2024-02-01 20:54:26,200 bacco.cosmo :    created Pk(z=0) tab from k 8.333333244081587e-05 to 100000.0 h/Mpc\n",
      "2024-02-01 20:54:26,245 bacco.cosmo :    computed halofit at z=0.00 for 'Default' in 0.002 secs\n",
      "2024-02-01 20:54:26,246 bacco.statistics :  setting the grid 512 True\n",
      "2024-02-01 20:54:26,246 bacco.statistics : Computing tsc mesh with ngrid=512 and interlacing=True\n",
      "2024-02-01 20:54:26,247 bacco.statistics : starting deposit 2\n"
     ]
    },
    {
     "name": "stdout",
     "output_type": "stream",
     "text": [
      "bacco.mesh : boxsize=256.000000 ngrid=512, nthreads=48, vel_factor=0.000000, interlacing=1, folds=1.000000, 2d=0\n",
      "bacco.mesh : allocating 1024.0 Mb\n"
     ]
    },
    {
     "name": "stderr",
     "output_type": "stream",
     "text": [
      "2024-02-01 20:54:27,045 bacco.statistics :  mesh done in 0.798 s\n",
      "2024-02-01 20:54:27,046 bacco.statistics :  Starting the power spectrum calculation\n"
     ]
    },
    {
     "name": "stdout",
     "output_type": "stream",
     "text": [
      "bacco.mesh : binning of 7077888 particles (7077888 with mass)\n",
      "bacco.power : boxsize 256.000000; ngrid 512; nthreads 48; interlacing 1; deposit_method 2; log_binning 0; type 0; precision=single; correct_grid=1 (log=1); correct_sn=0\n",
      "bacco.power : normalise_grid1=1 normalise_grid2=1 deconvolve_grid1=1 deconvolve_grid2=1\n",
      "bacco.power : total mass 7.07789e+06 (grid1) 7.07789e+06 (grid2)\n",
      "bacco.power : Doing FFTW\n",
      "bacco.power: FFT took 0.420234 sec\n",
      "bacco.power : Counting modes\n"
     ]
    },
    {
     "name": "stderr",
     "output_type": "stream",
     "text": [
      "2024-02-01 20:54:30,936 bacco.statistics :  done compute.power\n",
      "2024-02-01 20:54:30,939 bacco.statistics :  power done in 5.03 s\n"
     ]
    },
    {
     "name": "stdout",
     "output_type": "stream",
     "text": [
      "bacco.power : done counting modes in 2.840444 sec\n",
      "bacco.power : Starting Fourier loop \n",
      "bacco.power : done Fourier loop in 0.008335 secs\n",
      "bacco.power : Deallocating arrays\n"
     ]
    }
   ],
   "source": [
    "bcmpk = bcmsim.BaryonSimulation.get_sdmPower(**pkdict)"
   ]
  },
  {
   "cell_type": "code",
   "execution_count": 70,
   "metadata": {},
   "outputs": [
    {
     "data": {
      "image/png": "[encoded data removed]",
      "text/plain": [
       "<Figure size 576x648 with 2 Axes>"
      ]
     },
     "metadata": {
      "needs_background": "light"
     },
     "output_type": "display_data"
    }
   ],
   "source": [
    "fig, ax = plt.subplots(2, 1, figsize=(8, 9), sharex=True, gridspec_kw={'hspace': 0})\n",
    "\n",
    "ax[0].loglog(dmopk['k'], dmopk['pk'], lw=3, color='royalblue', label='DMO')\n",
    "ax[0].loglog(bcmpk['k'], bcmpk['pk'], lw=3, color='darkorange', label='BCM')\n",
    "ax[0].legend(fontsize=23)\n",
    "\n",
    "ax[1].semilogx(bcmpk['k'], bcmpk['pk']/dmopk['pk'], lw=3, color='darkorange')\n",
    "\n",
    "ax[1].set_xlabel(r'$k \\,\\, [h \\,\\, \\mathrm{Mpc}^{-1}]$', fontsize=23)\n",
    "ax[0].set_ylabel(r'$P(k) \\,\\, [h^{-3} \\,\\, \\mathrm{Mpc}^3]$', fontsize=23)\n",
    "ax[1].set_ylabel(r'$P / P_{\\mathrm{DMO}}$', fontsize=23)\n",
    "bacco.set_logticks(ax[0])\n",
    "bacco.set_logticks(ax[1], axis='x')\n",
    "\n",
    "plt.show()"
   ]
  },
  {
   "cell_type": "markdown",
   "metadata": {},
   "source": [
    "# Measure 15 terms of lbias in DMO and BCM sims"
   ]
  },
  {
   "cell_type": "code",
   "execution_count": 71,
   "metadata": {},
   "outputs": [
    {
     "name": "stderr",
     "output_type": "stream",
     "text": [
      "2024-02-01 20:54:31,745 bacco.BiasModel : Initialising Bias Model class ...\n"
     ]
    },
    {
     "name": "stdout",
     "output_type": "stream",
     "text": [
      "Number of sdm particles: 192\n"
     ]
    },
    {
     "name": "stderr",
     "output_type": "stream",
     "text": [
      "2024-02-01 20:54:31,960 bacco.BiasModel : Computing power spectra of bias terms ...\n",
      "2024-02-01 20:54:31,961 bacco.BiasModel : Memory used: 4.486889472 Gigabytes\n",
      "2024-02-01 20:54:31,961 bacco.BiasModel : Computing bias model power spectra...\n",
      "2024-02-01 20:54:31,962 bacco.BiasModel : 0.9990212338420196\n",
      "2024-02-01 20:54:31,962 bacco.BiasModel : -----------------------------------------------\n",
      "Cosmology \"Default\", de_model \"LCDM\" \n",
      "- Paramerers: Omega_cdm = 0.265, Omega_b = 0.05, Omega_de = 0.685, \n",
      "Hubble=0.6, Sigma_8=0.9, A_s=None, ns=1.01, neutrino_mass=0.0, \n",
      "Omega_r=0.0, Omega_k=0.0, tau=0.0952, w0=-1.0, wa=0.0\n",
      "- Power Spectrum: CAMB,   Expansion Factor: 0.9990212338420196,   ReNormalizeInputSpectrum: (False,)\n",
      "-----------------------------------------------\n",
      "2024-02-01 20:54:31,963 bacco.BiasModel : Computing bias terms in lagrangian space and moving to Eulerian ...\n",
      "2024-02-01 20:54:31,964 bacco.BiasModel : Computing expansion bias terms in eulerian coords ...\n",
      "2024-02-01 20:54:31,965 bacco.BiasModel : Memory used: 4.486889472 Gigabytes\n",
      "2024-02-01 20:54:31,966 bacco.BiasModel : Computing delta_to_tidal_field with 48 threads...\n",
      "2024-02-01 20:54:31,966 bacco.BiasModel : fttw plan\n",
      "2024-02-01 20:54:31,967 bacco.BiasModel : Computing linear field ...\n",
      "2024-02-01 20:54:31,968 bacco.BiasModel : Memory used: 4.486889472 Gigabytes\n",
      "2024-02-01 20:54:37,712 bacco.BiasModel : fttw freqs\n",
      "2024-02-01 20:54:37,713 bacco.BiasModel : tidk freqs\n"
     ]
    },
    {
     "name": "stdout",
     "output_type": "stream",
     "text": [
      "bacco.lss_scaler : 288 P(k) values; Di = (0.999481, 0.998948, 0.998444, 0.998444); nthreads =48; seed =-406168 \n",
      "bacco.lss_scaler: start computing linear field...\n",
      "bacco.lss_scaler: seed =-406168 ngrid=192 pkfixed=1 phase=0.000000, phase_type=0; precision=single \n"
     ]
    },
    {
     "name": "stderr",
     "output_type": "stream",
     "text": [
      "2024-02-01 20:54:47,094 bacco.BiasModel : ifft\n",
      "2024-02-01 20:54:48,808 bacco.BiasModel : Computing laplacian ...\n",
      "2024-02-01 20:54:48,810 bacco.BiasModel : Memory used: 4.754907136 Gigabytes\n",
      "2024-02-01 20:58:57,598 bacco.BiasModel : Computing bias terms in lagrangian coords ...\n",
      "2024-02-01 20:58:57,600 bacco.BiasModel : Memory used: 4.7927296 Gigabytes\n",
      "2024-02-01 20:58:57,615 bacco.BiasModel : Computing delta squared ...\n",
      "2024-02-01 20:58:57,615 bacco.BiasModel : Memory used: 4.7927296 Gigabytes\n",
      "2024-02-01 20:58:57,670 bacco.BiasModel : Computing tidal component G2 with the given tidal field\n",
      "2024-02-01 20:58:57,671 bacco.BiasModel : Memory used: 4.82103296 Gigabytes\n",
      "2024-02-01 20:58:58,265 bacco.BiasModel : Transforming to eulerian coords ...\n",
      "2024-02-01 20:58:58,267 bacco.BiasModel : Memory used: 4.608393216 Gigabytes\n",
      "2024-02-01 20:58:58,268 bacco.BiasModel : Finding indices from lagrangian neighbours ...\n",
      "2024-02-01 20:58:58,269 bacco.BiasModel : Memory used: 4.608393216 Gigabytes\n",
      "2024-02-01 20:58:58,269 bacco.BiasModel : Computing regular grid ...\n",
      "2024-02-01 20:58:58,270 bacco.BiasModel : Memory used: 4.608393216 Gigabytes\n",
      "2024-02-01 20:58:59,087 bacco.sims : Build cKDTree\n",
      "2024-02-01 20:59:03,493 bacco.sims : query cKDTree\n",
      "2024-02-01 20:59:04,483 bacco.BiasModel : mesh #0\n",
      "2024-02-01 20:59:04,487 bacco.statistics : Computing cic mesh with ngrid=192 and interlacing=False\n",
      "2024-02-01 20:59:04,488 bacco.statistics : starting deposit 1\n",
      "2024-02-01 20:59:04,548 bacco.statistics :  mesh done in 0.061 s\n",
      "2024-02-01 20:59:04,549 bacco.BiasModel : mesh #1\n",
      "2024-02-01 20:59:04,549 bacco.statistics : Computing cic mesh with ngrid=192 and interlacing=False\n",
      "2024-02-01 20:59:04,550 bacco.statistics : starting deposit 1\n",
      "2024-02-01 20:59:04,618 bacco.statistics :  mesh done in 0.0685 s\n",
      "2024-02-01 20:59:04,619 bacco.BiasModel : mesh #2\n",
      "2024-02-01 20:59:04,619 bacco.statistics : Computing cic mesh with ngrid=192 and interlacing=False\n",
      "2024-02-01 20:59:04,620 bacco.statistics : starting deposit 1\n",
      "2024-02-01 20:59:04,677 bacco.statistics :  mesh done in 0.0581 s\n",
      "2024-02-01 20:59:04,679 bacco.BiasModel : mesh #3\n",
      "2024-02-01 20:59:04,679 bacco.statistics : Computing cic mesh with ngrid=192 and interlacing=False\n",
      "2024-02-01 20:59:04,680 bacco.statistics : starting deposit 1\n"
     ]
    },
    {
     "name": "stdout",
     "output_type": "stream",
     "text": [
      "bacco.mesh : boxsize=256.000000 ngrid=192, nthreads=48, vel_factor=0.000000, interlacing=0, folds=1.000000, 2d=0\n",
      "bacco.mesh : allocating 27.0 Mb\n",
      "bacco.mesh : binning of 7077888 particles (7077888 with mass)\n",
      "bacco.mesh : boxsize=256.000000 ngrid=192, nthreads=48, vel_factor=0.000000, interlacing=0, folds=1.000000, 2d=0\n",
      "bacco.mesh : allocating 27.0 Mb\n",
      "bacco.mesh : binning of 7077888 particles (7077888 with mass)\n",
      "bacco.mesh : boxsize=256.000000 ngrid=192, nthreads=48, vel_factor=0.000000, interlacing=0, folds=1.000000, 2d=0\n",
      "bacco.mesh : allocating 27.0 Mb\n",
      "bacco.mesh : binning of 7077888 particles (7077888 with mass)\n",
      "bacco.mesh : boxsize=256.000000 ngrid=192, nthreads=48, vel_factor=0.000000, interlacing=0, folds=1.000000, 2d=0\n",
      "bacco.mesh : allocating 27.0 Mb\n"
     ]
    },
    {
     "name": "stderr",
     "output_type": "stream",
     "text": [
      "2024-02-01 20:59:04,758 bacco.statistics :  mesh done in 0.0787 s\n",
      "2024-02-01 20:59:04,760 bacco.BiasModel : mesh #4\n",
      "2024-02-01 20:59:04,761 bacco.statistics : Computing cic mesh with ngrid=192 and interlacing=False\n",
      "2024-02-01 20:59:04,761 bacco.statistics : starting deposit 1\n",
      "2024-02-01 20:59:04,819 bacco.statistics :  mesh done in 0.0582 s\n",
      "2024-02-01 20:59:04,848 bacco.BiasModel : Finished computing bias terms in lagrangian space and moving to Eulerian.\n",
      "2024-02-01 20:59:04,849 bacco.BiasModel : Defining prod...\n",
      "2024-02-01 20:59:04,850 bacco.BiasModel : np.arange(bias_terms_eul.shape[0]) = [0 1 2 3 4]\n"
     ]
    },
    {
     "name": "stdout",
     "output_type": "stream",
     "text": [
      "bacco.mesh : binning of 7077888 particles (7077888 with mass)\n",
      "bacco.mesh : boxsize=256.000000 ngrid=192, nthreads=48, vel_factor=0.000000, interlacing=0, folds=1.000000, 2d=0\n",
      "bacco.mesh : allocating 27.0 Mb\n",
      "bacco.mesh : binning of 7077888 particles (7077888 with mass)\n"
     ]
    },
    {
     "name": "stderr",
     "output_type": "stream",
     "text": [
      "2024-02-01 20:59:07,967 bacco.statistics : Computing the power spectrum with ngrid=192 and interlacing=False\n"
     ]
    },
    {
     "name": "stdout",
     "output_type": "stream",
     "text": [
      "bacco.power : boxsize 256.000000; ngrid 192; nthreads 48; interlacing 0; deposit_method 1; log_binning 0; type 1; precision=single; correct_grid=1 (log=1); correct_sn=0\n",
      "bacco.power : normalise_grid1=0 normalise_grid2=0 deconvolve_grid1=1 deconvolve_grid2=1\n",
      "bacco.power : total mass 1 (grid1) 1 (grid2)\n",
      "bacco.power : Doing FFTW\n",
      "bacco.power: FFT took 0.184965 sec\n",
      "bacco.power : Counting modes\n"
     ]
    },
    {
     "name": "stderr",
     "output_type": "stream",
     "text": [
      "2024-02-01 20:59:11,142 bacco.statistics :  ...done in 3.17 s\n",
      "2024-02-01 20:59:11,193 bacco.statistics : Computing the power spectrum with ngrid=192 and interlacing=False\n"
     ]
    },
    {
     "name": "stdout",
     "output_type": "stream",
     "text": [
      "bacco.power : done counting modes in 2.842945 sec\n",
      "bacco.power : Starting Fourier loop \n",
      "bacco.power : done Fourier loop in 0.004326 secs\n",
      "bacco.power : Deallocating arrays\n",
      "bacco.power : boxsize 256.000000; ngrid 192; nthreads 48; interlacing 0; deposit_method 1; log_binning 0; type 1; precision=single; correct_grid=1 (log=1); correct_sn=0\n",
      "bacco.power : normalise_grid1=0 normalise_grid2=0 deconvolve_grid1=1 deconvolve_grid2=1\n",
      "bacco.power : total mass 1 (grid1) 1.12644e-09 (grid2)\n",
      "bacco.power : Doing FFTW\n",
      "bacco.power: FFT took 0.137243 sec\n",
      "bacco.power : Counting modes\n"
     ]
    },
    {
     "name": "stderr",
     "output_type": "stream",
     "text": [
      "2024-02-01 20:59:14,409 bacco.statistics :  ...done in 3.22 s\n",
      "2024-02-01 20:59:14,432 bacco.statistics : Computing the power spectrum with ngrid=192 and interlacing=False\n"
     ]
    },
    {
     "name": "stdout",
     "output_type": "stream",
     "text": [
      "bacco.power : done counting modes in 2.947961 sec\n",
      "bacco.power : Starting Fourier loop \n",
      "bacco.power : done Fourier loop in 0.006320 secs\n",
      "bacco.power : Deallocating arrays\n",
      "bacco.power : boxsize 256.000000; ngrid 192; nthreads 48; interlacing 0; deposit_method 1; log_binning 0; type 1; precision=single; correct_grid=1 (log=0); correct_sn=0\n",
      "bacco.power : normalise_grid1=0 normalise_grid2=0 deconvolve_grid1=1 deconvolve_grid2=1\n",
      "bacco.power : total mass 1 (grid1) -4.65895e-07 (grid2)\n",
      "bacco.power : Doing FFTW\n",
      "bacco.power: FFT took 0.160111 sec\n",
      "bacco.power : Counting modes\n"
     ]
    },
    {
     "name": "stderr",
     "output_type": "stream",
     "text": [
      "2024-02-01 20:59:17,304 bacco.statistics :  ...done in 2.87 s\n",
      "2024-02-01 20:59:17,323 bacco.statistics : Computing the power spectrum with ngrid=192 and interlacing=False\n"
     ]
    },
    {
     "name": "stdout",
     "output_type": "stream",
     "text": [
      "bacco.power : done counting modes in 2.637840 sec\n",
      "bacco.power : Starting Fourier loop \n",
      "bacco.power : done Fourier loop in 0.006283 secs\n",
      "bacco.power : Deallocating arrays\n",
      "bacco.power : boxsize 256.000000; ngrid 192; nthreads 48; interlacing 0; deposit_method 1; log_binning 0; type 1; precision=single; correct_grid=1 (log=0); correct_sn=0\n",
      "bacco.power : normalise_grid1=0 normalise_grid2=0 deconvolve_grid1=1 deconvolve_grid2=1\n",
      "bacco.power : total mass 1 (grid1) -2.69199e-07 (grid2)\n",
      "bacco.power : Doing FFTW\n",
      "bacco.power: FFT took 0.169929 sec\n",
      "bacco.power : Counting modes\n"
     ]
    },
    {
     "name": "stderr",
     "output_type": "stream",
     "text": [
      "2024-02-01 20:59:20,306 bacco.statistics :  ...done in 2.98 s\n",
      "2024-02-01 20:59:20,332 bacco.statistics : Computing the power spectrum with ngrid=192 and interlacing=False\n"
     ]
    },
    {
     "name": "stdout",
     "output_type": "stream",
     "text": [
      "bacco.power : done counting modes in 2.748701 sec\n",
      "bacco.power : Starting Fourier loop \n",
      "bacco.power : done Fourier loop in 0.004088 secs\n",
      "bacco.power : Deallocating arrays\n",
      "bacco.power : boxsize 256.000000; ngrid 192; nthreads 48; interlacing 0; deposit_method 1; log_binning 0; type 1; precision=single; correct_grid=1 (log=0); correct_sn=0\n",
      "bacco.power : normalise_grid1=0 normalise_grid2=0 deconvolve_grid1=1 deconvolve_grid2=1\n",
      "bacco.power : total mass 1 (grid1) -1.23017e-10 (grid2)\n",
      "bacco.power : Doing FFTW\n",
      "bacco.power: FFT took 0.089049 sec\n",
      "bacco.power : Counting modes\n"
     ]
    },
    {
     "name": "stderr",
     "output_type": "stream",
     "text": [
      "2024-02-01 20:59:23,321 bacco.statistics :  ...done in 2.99 s\n",
      "2024-02-01 20:59:23,350 bacco.statistics : Computing the power spectrum with ngrid=192 and interlacing=False\n"
     ]
    },
    {
     "name": "stdout",
     "output_type": "stream",
     "text": [
      "bacco.power : done counting modes in 2.785920 sec\n",
      "bacco.power : Starting Fourier loop \n",
      "bacco.power : done Fourier loop in 0.005588 secs\n",
      "bacco.power : Deallocating arrays\n",
      "bacco.power : boxsize 256.000000; ngrid 192; nthreads 48; interlacing 0; deposit_method 1; log_binning 0; type 1; precision=single; correct_grid=1 (log=1); correct_sn=0\n",
      "bacco.power : normalise_grid1=0 normalise_grid2=0 deconvolve_grid1=1 deconvolve_grid2=1\n",
      "bacco.power : total mass 1.12644e-09 (grid1) 1.12644e-09 (grid2)\n",
      "bacco.power : Doing FFTW\n",
      "bacco.power: FFT took 0.166559 sec\n",
      "bacco.power : Counting modes\n"
     ]
    },
    {
     "name": "stderr",
     "output_type": "stream",
     "text": [
      "2024-02-01 20:59:26,211 bacco.statistics :  ...done in 2.86 s\n",
      "2024-02-01 20:59:26,240 bacco.statistics : Computing the power spectrum with ngrid=192 and interlacing=False\n"
     ]
    },
    {
     "name": "stdout",
     "output_type": "stream",
     "text": [
      "bacco.power : done counting modes in 2.620543 sec\n",
      "bacco.power : Starting Fourier loop \n",
      "bacco.power : done Fourier loop in 0.005293 secs\n",
      "bacco.power : Deallocating arrays\n",
      "bacco.power : boxsize 256.000000; ngrid 192; nthreads 48; interlacing 0; deposit_method 1; log_binning 0; type 1; precision=single; correct_grid=1 (log=1); correct_sn=0\n",
      "bacco.power : normalise_grid1=0 normalise_grid2=0 deconvolve_grid1=1 deconvolve_grid2=1\n",
      "bacco.power : total mass 1.12644e-09 (grid1) -4.65895e-07 (grid2)\n",
      "bacco.power : Doing FFTW\n",
      "bacco.power: FFT took 0.169127 sec\n",
      "bacco.power : Counting modes\n"
     ]
    },
    {
     "name": "stderr",
     "output_type": "stream",
     "text": [
      "2024-02-01 20:59:29,057 bacco.statistics :  ...done in 2.82 s\n",
      "2024-02-01 20:59:29,093 bacco.statistics : Computing the power spectrum with ngrid=192 and interlacing=False\n"
     ]
    },
    {
     "name": "stdout",
     "output_type": "stream",
     "text": [
      "bacco.power : done counting modes in 2.565845 sec\n",
      "bacco.power : Starting Fourier loop \n",
      "bacco.power : done Fourier loop in 0.003386 secs\n",
      "bacco.power : Deallocating arrays\n",
      "bacco.power : boxsize 256.000000; ngrid 192; nthreads 48; interlacing 0; deposit_method 1; log_binning 0; type 1; precision=single; correct_grid=1 (log=0); correct_sn=0\n",
      "bacco.power : normalise_grid1=0 normalise_grid2=0 deconvolve_grid1=1 deconvolve_grid2=1\n",
      "bacco.power : total mass 1.12644e-09 (grid1) -2.69199e-07 (grid2)\n",
      "bacco.power : Doing FFTW\n",
      "bacco.power: FFT took 0.163489 sec\n",
      "bacco.power : Counting modes\n"
     ]
    },
    {
     "name": "stderr",
     "output_type": "stream",
     "text": [
      "2024-02-01 20:59:31,897 bacco.statistics :  ...done in 2.8 s\n",
      "2024-02-01 20:59:31,927 bacco.statistics : Computing the power spectrum with ngrid=192 and interlacing=False\n"
     ]
    },
    {
     "name": "stdout",
     "output_type": "stream",
     "text": [
      "bacco.power : done counting modes in 2.579695 sec\n",
      "bacco.power : Starting Fourier loop \n",
      "bacco.power : done Fourier loop in 0.004123 secs\n",
      "bacco.power : Deallocating arrays\n",
      "bacco.power : boxsize 256.000000; ngrid 192; nthreads 48; interlacing 0; deposit_method 1; log_binning 0; type 1; precision=single; correct_grid=1 (log=0); correct_sn=0\n",
      "bacco.power : normalise_grid1=0 normalise_grid2=0 deconvolve_grid1=1 deconvolve_grid2=1\n",
      "bacco.power : total mass 1.12644e-09 (grid1) -1.23017e-10 (grid2)\n",
      "bacco.power : Doing FFTW\n",
      "bacco.power: FFT took 0.162631 sec\n",
      "bacco.power : Counting modes\n"
     ]
    },
    {
     "name": "stderr",
     "output_type": "stream",
     "text": [
      "2024-02-01 20:59:34,691 bacco.statistics :  ...done in 2.76 s\n",
      "2024-02-01 20:59:34,711 bacco.statistics : Computing the power spectrum with ngrid=192 and interlacing=False\n"
     ]
    },
    {
     "name": "stdout",
     "output_type": "stream",
     "text": [
      "bacco.power : done counting modes in 2.536435 sec\n",
      "bacco.power : Starting Fourier loop \n",
      "bacco.power : done Fourier loop in 0.004068 secs\n",
      "bacco.power : Deallocating arrays\n",
      "bacco.power : boxsize 256.000000; ngrid 192; nthreads 48; interlacing 0; deposit_method 1; log_binning 0; type 1; precision=single; correct_grid=1 (log=1); correct_sn=0\n",
      "bacco.power : normalise_grid1=0 normalise_grid2=0 deconvolve_grid1=1 deconvolve_grid2=1\n",
      "bacco.power : total mass -4.65895e-07 (grid1) -4.65895e-07 (grid2)\n",
      "bacco.power : Doing FFTW\n",
      "bacco.power: FFT took 0.093105 sec\n",
      "bacco.power : Counting modes\n"
     ]
    },
    {
     "name": "stderr",
     "output_type": "stream",
     "text": [
      "2024-02-01 20:59:37,521 bacco.statistics :  ...done in 2.81 s\n",
      "2024-02-01 20:59:37,536 bacco.statistics : Computing the power spectrum with ngrid=192 and interlacing=False\n"
     ]
    },
    {
     "name": "stdout",
     "output_type": "stream",
     "text": [
      "bacco.power : done counting modes in 2.637556 sec\n",
      "bacco.power : Starting Fourier loop \n",
      "bacco.power : done Fourier loop in 0.004797 secs\n",
      "bacco.power : Deallocating arrays\n",
      "bacco.power : boxsize 256.000000; ngrid 192; nthreads 48; interlacing 0; deposit_method 1; log_binning 0; type 1; precision=single; correct_grid=1 (log=1); correct_sn=0\n",
      "bacco.power : normalise_grid1=0 normalise_grid2=0 deconvolve_grid1=1 deconvolve_grid2=1\n",
      "bacco.power : total mass -4.65895e-07 (grid1) -2.69199e-07 (grid2)\n",
      "bacco.power : Doing FFTW\n",
      "bacco.power: FFT took 0.169210 sec\n",
      "bacco.power : Counting modes\n"
     ]
    },
    {
     "name": "stderr",
     "output_type": "stream",
     "text": [
      "2024-02-01 20:59:40,443 bacco.statistics :  ...done in 2.91 s\n",
      "2024-02-01 20:59:40,467 bacco.statistics : Computing the power spectrum with ngrid=192 and interlacing=False\n"
     ]
    },
    {
     "name": "stdout",
     "output_type": "stream",
     "text": [
      "bacco.power : done counting modes in 2.652044 sec\n",
      "bacco.power : Starting Fourier loop \n",
      "bacco.power : done Fourier loop in 0.003596 secs\n",
      "bacco.power : Deallocating arrays\n",
      "bacco.power : boxsize 256.000000; ngrid 192; nthreads 48; interlacing 0; deposit_method 1; log_binning 0; type 1; precision=single; correct_grid=0 (log=0); correct_sn=0\n",
      "bacco.power : normalise_grid1=0 normalise_grid2=0 deconvolve_grid1=1 deconvolve_grid2=1\n",
      "bacco.power : total mass -4.65895e-07 (grid1) -1.23017e-10 (grid2)\n",
      "bacco.power : Doing FFTW\n",
      "bacco.power: FFT took 0.163717 sec\n",
      "bacco.power : Counting modes\n"
     ]
    },
    {
     "name": "stderr",
     "output_type": "stream",
     "text": [
      "2024-02-01 20:59:43,370 bacco.statistics :  ...done in 2.9 s\n",
      "2024-02-01 20:59:43,391 bacco.statistics : Computing the power spectrum with ngrid=192 and interlacing=False\n"
     ]
    },
    {
     "name": "stdout",
     "output_type": "stream",
     "text": [
      "bacco.power : done counting modes in 2.665824 sec\n",
      "bacco.power : Starting Fourier loop \n",
      "bacco.power : done Fourier loop in 0.004680 secs\n",
      "bacco.power : Deallocating arrays\n",
      "bacco.power : boxsize 256.000000; ngrid 192; nthreads 48; interlacing 0; deposit_method 1; log_binning 0; type 1; precision=single; correct_grid=1 (log=1); correct_sn=0\n",
      "bacco.power : normalise_grid1=0 normalise_grid2=0 deconvolve_grid1=1 deconvolve_grid2=1\n",
      "bacco.power : total mass -2.69199e-07 (grid1) -2.69199e-07 (grid2)\n",
      "bacco.power : Doing FFTW\n",
      "bacco.power: FFT took 0.155116 sec\n",
      "bacco.power : Counting modes\n"
     ]
    },
    {
     "name": "stderr",
     "output_type": "stream",
     "text": [
      "2024-02-01 20:59:46,390 bacco.statistics :  ...done in 3.0 s\n",
      "2024-02-01 20:59:46,411 bacco.statistics : Computing the power spectrum with ngrid=192 and interlacing=False\n"
     ]
    },
    {
     "name": "stdout",
     "output_type": "stream",
     "text": [
      "bacco.power : done counting modes in 2.782034 sec\n",
      "bacco.power : Starting Fourier loop \n",
      "bacco.power : done Fourier loop in 0.003977 secs\n",
      "bacco.power : Deallocating arrays\n",
      "bacco.power : boxsize 256.000000; ngrid 192; nthreads 48; interlacing 0; deposit_method 1; log_binning 0; type 1; precision=single; correct_grid=1 (log=0); correct_sn=0\n",
      "bacco.power : normalise_grid1=0 normalise_grid2=0 deconvolve_grid1=1 deconvolve_grid2=1\n",
      "bacco.power : total mass -2.69199e-07 (grid1) -1.23017e-10 (grid2)\n",
      "bacco.power : Doing FFTW\n",
      "bacco.power: FFT took 0.160507 sec\n",
      "bacco.power : Counting modes\n"
     ]
    },
    {
     "name": "stderr",
     "output_type": "stream",
     "text": [
      "2024-02-01 20:59:49,204 bacco.statistics :  ...done in 2.79 s\n",
      "2024-02-01 20:59:49,218 bacco.statistics : Computing the power spectrum with ngrid=192 and interlacing=False\n"
     ]
    },
    {
     "name": "stdout",
     "output_type": "stream",
     "text": [
      "bacco.power : done counting modes in 2.559762 sec\n",
      "bacco.power : Starting Fourier loop \n",
      "bacco.power : done Fourier loop in 0.005771 secs\n",
      "bacco.power : Deallocating arrays\n",
      "bacco.power : boxsize 256.000000; ngrid 192; nthreads 48; interlacing 0; deposit_method 1; log_binning 0; type 1; precision=single; correct_grid=1 (log=1); correct_sn=0\n",
      "bacco.power : normalise_grid1=0 normalise_grid2=0 deconvolve_grid1=1 deconvolve_grid2=1\n",
      "bacco.power : total mass -1.23017e-10 (grid1) -1.23017e-10 (grid2)\n",
      "bacco.power : Doing FFTW\n",
      "bacco.power: FFT took 0.166266 sec\n",
      "bacco.power : Counting modes\n"
     ]
    },
    {
     "name": "stderr",
     "output_type": "stream",
     "text": [
      "2024-02-01 20:59:52,174 bacco.statistics :  ...done in 2.96 s\n",
      "2024-02-01 20:59:52,175 bacco.BiasModel : Done computing power spectra terms.\n"
     ]
    },
    {
     "name": "stdout",
     "output_type": "stream",
     "text": [
      "bacco.power : done counting modes in 2.703176 sec\n",
      "bacco.power : Starting Fourier loop \n",
      "bacco.power : done Fourier loop in 0.005469 secs\n",
      "bacco.power : Deallocating arrays\n"
     ]
    }
   ],
   "source": [
    "# dumping scale\n",
    "ds = 0.75\n",
    "\n",
    "nsdm = int(np.cbrt(sim.header['NpartTotal']) / 4)\n",
    "\n",
    "print('Number of sdm particles: {}'.format(nsdm))\n",
    "\n",
    "dmobmodel = bacco.bias_model.BiasModel(sim=sim, ngrid=nsdm,\n",
    "                                       npart_for_fake_sim=nsdm,\n",
    "                                       mean_num_dens=0.01, # doesn't matter\n",
    "                                       mode='sdm', sdm=True,\n",
    "                                       damping_scale=ds)\n",
    "dmopij = dmobmodel.compute_power_terms(kmin=kmin, kmax=kmax, nbins=nbins, log_binning=log_binning)"
   ]
  },
  {
   "cell_type": "code",
   "execution_count": 72,
   "metadata": {},
   "outputs": [
    {
     "name": "stderr",
     "output_type": "stream",
     "text": [
      "2024-02-01 20:59:52,190 bacco.BiasModel : Initialising Bias Model class ...\n",
      "2024-02-01 20:59:52,774 bacco.BiasModel : Computing power spectra of bias terms ...\n",
      "2024-02-01 20:59:52,776 bacco.BiasModel : Memory used: 4.532207616 Gigabytes\n",
      "2024-02-01 20:59:52,777 bacco.BiasModel : Computing bias model power spectra...\n",
      "2024-02-01 20:59:52,777 bacco.BiasModel : 0.9990212338420196\n",
      "2024-02-01 20:59:52,778 bacco.BiasModel : -----------------------------------------------\n",
      "Cosmology \"Default\", de_model \"LCDM\" \n",
      "- Paramerers: Omega_cdm = 0.265, Omega_b = 0.05, Omega_de = 0.685, \n",
      "Hubble=0.6, Sigma_8=0.9, A_s=None, ns=1.01, neutrino_mass=0.0, \n",
      "Omega_r=0.0, Omega_k=0.0, tau=0.0952, w0=-1.0, wa=0.0\n",
      "- Power Spectrum: CAMB,   Expansion Factor: 0.9990212338420196,   ReNormalizeInputSpectrum: (False,)\n",
      "-----------------------------------------------\n",
      "2024-02-01 20:59:52,778 bacco.BiasModel : Computing bias terms in lagrangian space and moving to Eulerian ...\n",
      "2024-02-01 20:59:52,779 bacco.BiasModel : Computing expansion bias terms in eulerian coords ...\n",
      "2024-02-01 20:59:52,781 bacco.BiasModel : Memory used: 4.532207616 Gigabytes\n",
      "2024-02-01 20:59:52,781 bacco.BiasModel : Computing delta_to_tidal_field with 48 threads...\n",
      "2024-02-01 20:59:52,782 bacco.BiasModel : fttw plan\n",
      "2024-02-01 20:59:52,783 bacco.BiasModel : Computing linear field ...\n",
      "2024-02-01 20:59:52,784 bacco.BiasModel : Memory used: 4.532207616 Gigabytes\n",
      "2024-02-01 21:03:10,983 bacco.BiasModel : fttw freqs\n",
      "2024-02-01 21:03:10,984 bacco.BiasModel : tidk freqs\n"
     ]
    },
    {
     "name": "stdout",
     "output_type": "stream",
     "text": [
      "bacco.lss_scaler : 288 P(k) values; Di = (0.999481, 0.998948, 0.998444, 0.998444); nthreads =48; seed =-406168 \n",
      "bacco.lss_scaler: start computing linear field...\n",
      "bacco.lss_scaler: seed =-406168 ngrid=192 pkfixed=1 phase=0.000000, phase_type=0; precision=single \n"
     ]
    },
    {
     "name": "stderr",
     "output_type": "stream",
     "text": [
      "2024-02-01 21:04:10,154 bacco.BiasModel : ifft\n",
      "2024-02-01 21:04:11,760 bacco.BiasModel : Computing laplacian ...\n",
      "2024-02-01 21:04:11,762 bacco.BiasModel : Memory used: 4.786425856 Gigabytes\n",
      "2024-02-01 21:06:25,572 bacco.BiasModel : Computing bias terms in lagrangian coords ...\n",
      "2024-02-01 21:06:25,574 bacco.BiasModel : Memory used: 4.78701568 Gigabytes\n",
      "2024-02-01 21:06:25,584 bacco.BiasModel : Computing delta squared ...\n",
      "2024-02-01 21:06:25,585 bacco.BiasModel : Memory used: 4.78701568 Gigabytes\n",
      "2024-02-01 21:06:25,628 bacco.BiasModel : Computing tidal component G2 with the given tidal field\n",
      "2024-02-01 21:06:25,630 bacco.BiasModel : Memory used: 4.78701568 Gigabytes\n",
      "2024-02-01 21:06:26,154 bacco.BiasModel : Transforming to eulerian coords ...\n",
      "2024-02-01 21:06:26,155 bacco.BiasModel : Memory used: 4.532207616 Gigabytes\n",
      "2024-02-01 21:06:26,156 bacco.BiasModel : Finding indices from lagrangian neighbours ...\n",
      "2024-02-01 21:06:26,157 bacco.BiasModel : Memory used: 4.532207616 Gigabytes\n",
      "2024-02-01 21:06:26,157 bacco.BiasModel : Computing regular grid ...\n",
      "2024-02-01 21:06:26,159 bacco.BiasModel : Memory used: 4.532207616 Gigabytes\n",
      "2024-02-01 21:06:26,649 bacco.sims : Build cKDTree\n",
      "2024-02-01 21:06:30,650 bacco.sims : query cKDTree\n",
      "2024-02-01 21:06:31,583 bacco.BiasModel : mesh #0\n",
      "2024-02-01 21:06:31,584 bacco.statistics : Computing cic mesh with ngrid=192 and interlacing=False\n",
      "2024-02-01 21:06:31,585 bacco.statistics : starting deposit 1\n",
      "2024-02-01 21:06:31,639 bacco.statistics :  mesh done in 0.055 s\n",
      "2024-02-01 21:06:31,640 bacco.BiasModel : mesh #1\n",
      "2024-02-01 21:06:31,640 bacco.statistics : Computing cic mesh with ngrid=192 and interlacing=False\n",
      "2024-02-01 21:06:31,640 bacco.statistics : starting deposit 1\n",
      "2024-02-01 21:06:31,704 bacco.statistics :  mesh done in 0.0641 s\n",
      "2024-02-01 21:06:31,705 bacco.BiasModel : mesh #2\n",
      "2024-02-01 21:06:31,707 bacco.statistics : Computing cic mesh with ngrid=192 and interlacing=False\n",
      "2024-02-01 21:06:31,707 bacco.statistics : starting deposit 1\n",
      "2024-02-01 21:06:31,764 bacco.statistics :  mesh done in 0.0572 s\n",
      "2024-02-01 21:06:31,765 bacco.BiasModel : mesh #3\n",
      "2024-02-01 21:06:31,765 bacco.statistics : Computing cic mesh with ngrid=192 and interlacing=False\n",
      "2024-02-01 21:06:31,767 bacco.statistics : starting deposit 1\n"
     ]
    },
    {
     "name": "stdout",
     "output_type": "stream",
     "text": [
      "bacco.mesh : boxsize=256.000000 ngrid=192, nthreads=48, vel_factor=0.000000, interlacing=0, folds=1.000000, 2d=0\n",
      "bacco.mesh : allocating 27.0 Mb\n",
      "bacco.mesh : binning of 7077888 particles (7077888 with mass)\n",
      "bacco.mesh : boxsize=256.000000 ngrid=192, nthreads=48, vel_factor=0.000000, interlacing=0, folds=1.000000, 2d=0\n",
      "bacco.mesh : allocating 27.0 Mb\n",
      "bacco.mesh : binning of 7077888 particles (7077888 with mass)\n",
      "bacco.mesh : boxsize=256.000000 ngrid=192, nthreads=48, vel_factor=0.000000, interlacing=0, folds=1.000000, 2d=0\n",
      "bacco.mesh : allocating 27.0 Mb\n",
      "bacco.mesh : binning of 7077888 particles (7077888 with mass)\n",
      "bacco.mesh : boxsize=256.000000 ngrid=192, nthreads=48, vel_factor=0.000000, interlacing=0, folds=1.000000, 2d=0\n",
      "bacco.mesh : allocating 27.0 Mb\n"
     ]
    },
    {
     "name": "stderr",
     "output_type": "stream",
     "text": [
      "2024-02-01 21:06:31,823 bacco.statistics :  mesh done in 0.0585 s\n",
      "2024-02-01 21:06:31,825 bacco.BiasModel : mesh #4\n",
      "2024-02-01 21:06:31,825 bacco.statistics : Computing cic mesh with ngrid=192 and interlacing=False\n",
      "2024-02-01 21:06:31,826 bacco.statistics : starting deposit 1\n",
      "2024-02-01 21:06:31,884 bacco.statistics :  mesh done in 0.0585 s\n",
      "2024-02-01 21:06:31,885 bacco.BiasModel : Finished computing bias terms in lagrangian space and moving to Eulerian.\n",
      "2024-02-01 21:06:31,885 bacco.BiasModel : Defining prod...\n",
      "2024-02-01 21:06:31,887 bacco.BiasModel : np.arange(bias_terms_eul.shape[0]) = [0 1 2 3 4]\n"
     ]
    },
    {
     "name": "stdout",
     "output_type": "stream",
     "text": [
      "bacco.mesh : binning of 7077888 particles (7077888 with mass)\n",
      "bacco.mesh : boxsize=256.000000 ngrid=192, nthreads=48, vel_factor=0.000000, interlacing=0, folds=1.000000, 2d=0\n",
      "bacco.mesh : allocating 27.0 Mb\n",
      "bacco.mesh : binning of 7077888 particles (7077888 with mass)\n"
     ]
    },
    {
     "name": "stderr",
     "output_type": "stream",
     "text": [
      "2024-02-01 21:06:34,871 bacco.statistics : Computing the power spectrum with ngrid=192 and interlacing=False\n"
     ]
    },
    {
     "name": "stdout",
     "output_type": "stream",
     "text": [
      "bacco.power : boxsize 256.000000; ngrid 192; nthreads 48; interlacing 0; deposit_method 1; log_binning 0; type 1; precision=single; correct_grid=1 (log=1); correct_sn=0\n",
      "bacco.power : normalise_grid1=0 normalise_grid2=0 deconvolve_grid1=1 deconvolve_grid2=1\n",
      "bacco.power : total mass 1 (grid1) 1 (grid2)\n",
      "bacco.power : Doing FFTW\n",
      "bacco.power: FFT took 0.179391 sec\n",
      "bacco.power : Counting modes\n"
     ]
    },
    {
     "name": "stderr",
     "output_type": "stream",
     "text": [
      "2024-02-01 21:06:37,935 bacco.statistics :  ...done in 3.06 s\n",
      "2024-02-01 21:06:37,951 bacco.statistics : Computing the power spectrum with ngrid=192 and interlacing=False\n"
     ]
    },
    {
     "name": "stdout",
     "output_type": "stream",
     "text": [
      "bacco.power : done counting modes in 2.818575 sec\n",
      "bacco.power : Starting Fourier loop \n",
      "bacco.power : done Fourier loop in 0.002917 secs\n",
      "bacco.power : Deallocating arrays\n",
      "bacco.power : boxsize 256.000000; ngrid 192; nthreads 48; interlacing 0; deposit_method 1; log_binning 0; type 1; precision=single; correct_grid=1 (log=1); correct_sn=0\n",
      "bacco.power : normalise_grid1=0 normalise_grid2=0 deconvolve_grid1=1 deconvolve_grid2=1\n",
      "bacco.power : total mass 1 (grid1) 3.7028e-09 (grid2)\n",
      "bacco.power : Doing FFTW\n",
      "bacco.power: FFT took 0.168426 sec\n",
      "bacco.power : Counting modes\n"
     ]
    },
    {
     "name": "stderr",
     "output_type": "stream",
     "text": [
      "2024-02-01 21:06:40,815 bacco.statistics :  ...done in 2.86 s\n",
      "2024-02-01 21:06:40,833 bacco.statistics : Computing the power spectrum with ngrid=192 and interlacing=False\n"
     ]
    },
    {
     "name": "stdout",
     "output_type": "stream",
     "text": [
      "bacco.power : done counting modes in 2.613148 sec\n",
      "bacco.power : Starting Fourier loop \n",
      "bacco.power : done Fourier loop in 0.005711 secs\n",
      "bacco.power : Deallocating arrays\n",
      "bacco.power : boxsize 256.000000; ngrid 192; nthreads 48; interlacing 0; deposit_method 1; log_binning 0; type 1; precision=single; correct_grid=1 (log=0); correct_sn=0\n",
      "bacco.power : normalise_grid1=0 normalise_grid2=0 deconvolve_grid1=1 deconvolve_grid2=1\n",
      "bacco.power : total mass 1 (grid1) -4.58797e-07 (grid2)\n",
      "bacco.power : Doing FFTW\n",
      "bacco.power: FFT took 0.166063 sec\n",
      "bacco.power : Counting modes\n"
     ]
    },
    {
     "name": "stderr",
     "output_type": "stream",
     "text": [
      "2024-02-01 21:06:43,946 bacco.statistics :  ...done in 3.11 s\n",
      "2024-02-01 21:06:43,967 bacco.statistics : Computing the power spectrum with ngrid=192 and interlacing=False\n"
     ]
    },
    {
     "name": "stdout",
     "output_type": "stream",
     "text": [
      "bacco.power : done counting modes in 2.887880 sec\n",
      "bacco.power : Starting Fourier loop \n",
      "bacco.power : done Fourier loop in 0.004964 secs\n",
      "bacco.power : Deallocating arrays\n",
      "bacco.power : boxsize 256.000000; ngrid 192; nthreads 48; interlacing 0; deposit_method 1; log_binning 0; type 1; precision=single; correct_grid=1 (log=0); correct_sn=0\n",
      "bacco.power : normalise_grid1=0 normalise_grid2=0 deconvolve_grid1=1 deconvolve_grid2=1\n",
      "bacco.power : total mass 1 (grid1) -2.68671e-07 (grid2)\n",
      "bacco.power : Doing FFTW\n",
      "bacco.power: FFT took 0.163910 sec\n",
      "bacco.power : Counting modes\n"
     ]
    },
    {
     "name": "stderr",
     "output_type": "stream",
     "text": [
      "2024-02-01 21:06:46,783 bacco.statistics :  ...done in 2.82 s\n",
      "2024-02-01 21:06:46,807 bacco.statistics : Computing the power spectrum with ngrid=192 and interlacing=False\n"
     ]
    },
    {
     "name": "stdout",
     "output_type": "stream",
     "text": [
      "bacco.power : done counting modes in 2.582996 sec\n",
      "bacco.power : Starting Fourier loop \n",
      "bacco.power : done Fourier loop in 0.005729 secs\n",
      "bacco.power : Deallocating arrays\n",
      "bacco.power : boxsize 256.000000; ngrid 192; nthreads 48; interlacing 0; deposit_method 1; log_binning 0; type 1; precision=single; correct_grid=1 (log=0); correct_sn=0\n",
      "bacco.power : normalise_grid1=0 normalise_grid2=0 deconvolve_grid1=1 deconvolve_grid2=1\n",
      "bacco.power : total mass 1 (grid1) -1.57296e-10 (grid2)\n",
      "bacco.power : Doing FFTW\n",
      "bacco.power: FFT took 0.168269 sec\n",
      "bacco.power : Counting modes\n"
     ]
    },
    {
     "name": "stderr",
     "output_type": "stream",
     "text": [
      "2024-02-01 21:06:49,652 bacco.statistics :  ...done in 2.85 s\n",
      "2024-02-01 21:06:49,689 bacco.statistics : Computing the power spectrum with ngrid=192 and interlacing=False\n"
     ]
    },
    {
     "name": "stdout",
     "output_type": "stream",
     "text": [
      "bacco.power : done counting modes in 2.621229 sec\n",
      "bacco.power : Starting Fourier loop \n",
      "bacco.power : done Fourier loop in 0.004567 secs\n",
      "bacco.power : Deallocating arrays\n",
      "bacco.power : boxsize 256.000000; ngrid 192; nthreads 48; interlacing 0; deposit_method 1; log_binning 0; type 1; precision=single; correct_grid=1 (log=1); correct_sn=0\n",
      "bacco.power : normalise_grid1=0 normalise_grid2=0 deconvolve_grid1=1 deconvolve_grid2=1\n",
      "bacco.power : total mass 3.7028e-09 (grid1) 3.7028e-09 (grid2)\n",
      "bacco.power : Doing FFTW\n",
      "bacco.power: FFT took 0.167378 sec\n",
      "bacco.power : Counting modes\n"
     ]
    },
    {
     "name": "stderr",
     "output_type": "stream",
     "text": [
      "2024-02-01 21:06:52,583 bacco.statistics :  ...done in 2.89 s\n",
      "2024-02-01 21:06:52,604 bacco.statistics : Computing the power spectrum with ngrid=192 and interlacing=False\n"
     ]
    },
    {
     "name": "stdout",
     "output_type": "stream",
     "text": [
      "bacco.power : done counting modes in 2.650567 sec\n",
      "bacco.power : Starting Fourier loop \n",
      "bacco.power : done Fourier loop in 0.003320 secs\n",
      "bacco.power : Deallocating arrays\n",
      "bacco.power : boxsize 256.000000; ngrid 192; nthreads 48; interlacing 0; deposit_method 1; log_binning 0; type 1; precision=single; correct_grid=1 (log=1); correct_sn=0\n",
      "bacco.power : normalise_grid1=0 normalise_grid2=0 deconvolve_grid1=1 deconvolve_grid2=1\n",
      "bacco.power : total mass 3.7028e-09 (grid1) -4.58797e-07 (grid2)\n",
      "bacco.power : Doing FFTW\n",
      "bacco.power: FFT took 0.171762 sec\n",
      "bacco.power : Counting modes\n"
     ]
    },
    {
     "name": "stderr",
     "output_type": "stream",
     "text": [
      "2024-02-01 21:06:55,617 bacco.statistics :  ...done in 3.01 s\n",
      "2024-02-01 21:06:55,642 bacco.statistics : Computing the power spectrum with ngrid=192 and interlacing=False\n"
     ]
    },
    {
     "name": "stdout",
     "output_type": "stream",
     "text": [
      "bacco.power : done counting modes in 2.769212 sec\n",
      "bacco.power : Starting Fourier loop \n",
      "bacco.power : done Fourier loop in 0.004481 secs\n",
      "bacco.power : Deallocating arrays\n",
      "bacco.power : boxsize 256.000000; ngrid 192; nthreads 48; interlacing 0; deposit_method 1; log_binning 0; type 1; precision=single; correct_grid=1 (log=0); correct_sn=0\n",
      "bacco.power : normalise_grid1=0 normalise_grid2=0 deconvolve_grid1=1 deconvolve_grid2=1\n",
      "bacco.power : total mass 3.7028e-09 (grid1) -2.68671e-07 (grid2)\n",
      "bacco.power : Doing FFTW\n",
      "bacco.power: FFT took 0.162177 sec\n",
      "bacco.power : Counting modes\n"
     ]
    },
    {
     "name": "stderr",
     "output_type": "stream",
     "text": [
      "2024-02-01 21:06:58,643 bacco.statistics :  ...done in 3.0 s\n",
      "2024-02-01 21:06:58,664 bacco.statistics : Computing the power spectrum with ngrid=192 and interlacing=False\n"
     ]
    },
    {
     "name": "stdout",
     "output_type": "stream",
     "text": [
      "bacco.power : done counting modes in 2.727720 sec\n",
      "bacco.power : Starting Fourier loop \n",
      "bacco.power : done Fourier loop in 0.005763 secs\n",
      "bacco.power : Deallocating arrays\n",
      "bacco.power : boxsize 256.000000; ngrid 192; nthreads 48; interlacing 0; deposit_method 1; log_binning 0; type 1; precision=single; correct_grid=1 (log=0); correct_sn=0\n",
      "bacco.power : normalise_grid1=0 normalise_grid2=0 deconvolve_grid1=1 deconvolve_grid2=1\n",
      "bacco.power : total mass 3.7028e-09 (grid1) -1.57296e-10 (grid2)\n",
      "bacco.power : Doing FFTW\n",
      "bacco.power: FFT took 0.168137 sec\n",
      "bacco.power : Counting modes\n"
     ]
    },
    {
     "name": "stderr",
     "output_type": "stream",
     "text": [
      "2024-02-01 21:07:01,786 bacco.statistics :  ...done in 3.12 s\n",
      "2024-02-01 21:07:01,808 bacco.statistics : Computing the power spectrum with ngrid=192 and interlacing=False\n"
     ]
    },
    {
     "name": "stdout",
     "output_type": "stream",
     "text": [
      "bacco.power : done counting modes in 2.864796 sec\n",
      "bacco.power : Starting Fourier loop \n",
      "bacco.power : done Fourier loop in 0.006296 secs\n",
      "bacco.power : Deallocating arrays\n",
      "bacco.power : boxsize 256.000000; ngrid 192; nthreads 48; interlacing 0; deposit_method 1; log_binning 0; type 1; precision=single; correct_grid=1 (log=1); correct_sn=0\n",
      "bacco.power : normalise_grid1=0 normalise_grid2=0 deconvolve_grid1=1 deconvolve_grid2=1\n",
      "bacco.power : total mass -4.58797e-07 (grid1) -4.58797e-07 (grid2)\n",
      "bacco.power : Doing FFTW\n",
      "bacco.power: FFT took 0.168474 sec\n",
      "bacco.power : Counting modes\n"
     ]
    },
    {
     "name": "stderr",
     "output_type": "stream",
     "text": [
      "2024-02-01 21:07:04,665 bacco.statistics :  ...done in 2.86 s\n",
      "2024-02-01 21:07:04,685 bacco.statistics : Computing the power spectrum with ngrid=192 and interlacing=False\n"
     ]
    },
    {
     "name": "stdout",
     "output_type": "stream",
     "text": [
      "bacco.power : done counting modes in 2.591112 sec\n",
      "bacco.power : Starting Fourier loop \n",
      "bacco.power : done Fourier loop in 0.005568 secs\n",
      "bacco.power : Deallocating arrays\n",
      "bacco.power : boxsize 256.000000; ngrid 192; nthreads 48; interlacing 0; deposit_method 1; log_binning 0; type 1; precision=single; correct_grid=1 (log=1); correct_sn=0\n",
      "bacco.power : normalise_grid1=0 normalise_grid2=0 deconvolve_grid1=1 deconvolve_grid2=1\n",
      "bacco.power : total mass -4.58797e-07 (grid1) -2.68671e-07 (grid2)\n",
      "bacco.power : Doing FFTW\n",
      "bacco.power: FFT took 0.166098 sec\n",
      "bacco.power : Counting modes\n"
     ]
    },
    {
     "name": "stderr",
     "output_type": "stream",
     "text": [
      "2024-02-01 21:07:07,559 bacco.statistics :  ...done in 2.87 s\n",
      "2024-02-01 21:07:07,575 bacco.statistics : Computing the power spectrum with ngrid=192 and interlacing=False\n"
     ]
    },
    {
     "name": "stdout",
     "output_type": "stream",
     "text": [
      "bacco.power : done counting modes in 2.628699 sec\n",
      "bacco.power : Starting Fourier loop \n",
      "bacco.power : done Fourier loop in 0.005548 secs\n",
      "bacco.power : Deallocating arrays\n",
      "bacco.power : boxsize 256.000000; ngrid 192; nthreads 48; interlacing 0; deposit_method 1; log_binning 0; type 1; precision=single; correct_grid=0 (log=0); correct_sn=0\n",
      "bacco.power : normalise_grid1=0 normalise_grid2=0 deconvolve_grid1=1 deconvolve_grid2=1\n",
      "bacco.power : total mass -4.58797e-07 (grid1) -1.57296e-10 (grid2)\n",
      "bacco.power : Doing FFTW\n",
      "bacco.power: FFT took 0.164508 sec\n",
      "bacco.power : Counting modes\n"
     ]
    },
    {
     "name": "stderr",
     "output_type": "stream",
     "text": [
      "2024-02-01 21:07:10,546 bacco.statistics :  ...done in 2.97 s\n",
      "2024-02-01 21:07:10,565 bacco.statistics : Computing the power spectrum with ngrid=192 and interlacing=False\n"
     ]
    },
    {
     "name": "stdout",
     "output_type": "stream",
     "text": [
      "bacco.power : done counting modes in 2.723750 sec\n",
      "bacco.power : Starting Fourier loop \n",
      "bacco.power : done Fourier loop in 0.003083 secs\n",
      "bacco.power : Deallocating arrays\n",
      "bacco.power : boxsize 256.000000; ngrid 192; nthreads 48; interlacing 0; deposit_method 1; log_binning 0; type 1; precision=single; correct_grid=1 (log=1); correct_sn=0\n",
      "bacco.power : normalise_grid1=0 normalise_grid2=0 deconvolve_grid1=1 deconvolve_grid2=1\n",
      "bacco.power : total mass -2.68671e-07 (grid1) -2.68671e-07 (grid2)\n",
      "bacco.power : Doing FFTW\n",
      "bacco.power: FFT took 0.154850 sec\n",
      "bacco.power : Counting modes\n"
     ]
    },
    {
     "name": "stderr",
     "output_type": "stream",
     "text": [
      "2024-02-01 21:07:13,428 bacco.statistics :  ...done in 2.86 s\n",
      "2024-02-01 21:07:13,447 bacco.statistics : Computing the power spectrum with ngrid=192 and interlacing=False\n"
     ]
    },
    {
     "name": "stdout",
     "output_type": "stream",
     "text": [
      "bacco.power : done counting modes in 2.652268 sec\n",
      "bacco.power : Starting Fourier loop \n",
      "bacco.power : done Fourier loop in 0.004767 secs\n",
      "bacco.power : Deallocating arrays\n",
      "bacco.power : boxsize 256.000000; ngrid 192; nthreads 48; interlacing 0; deposit_method 1; log_binning 0; type 1; precision=single; correct_grid=1 (log=0); correct_sn=0\n",
      "bacco.power : normalise_grid1=0 normalise_grid2=0 deconvolve_grid1=1 deconvolve_grid2=1\n",
      "bacco.power : total mass -2.68671e-07 (grid1) -1.57296e-10 (grid2)\n",
      "bacco.power : Doing FFTW\n",
      "bacco.power: FFT took 0.156204 sec\n",
      "bacco.power : Counting modes\n"
     ]
    },
    {
     "name": "stderr",
     "output_type": "stream",
     "text": [
      "2024-02-01 21:07:16,259 bacco.statistics :  ...done in 2.81 s\n",
      "2024-02-01 21:07:16,274 bacco.statistics : Computing the power spectrum with ngrid=192 and interlacing=False\n"
     ]
    },
    {
     "name": "stdout",
     "output_type": "stream",
     "text": [
      "bacco.power : done counting modes in 2.587253 sec\n",
      "bacco.power : Starting Fourier loop \n",
      "bacco.power : done Fourier loop in 0.005836 secs\n",
      "bacco.power : Deallocating arrays\n",
      "bacco.power : boxsize 256.000000; ngrid 192; nthreads 48; interlacing 0; deposit_method 1; log_binning 0; type 1; precision=single; correct_grid=1 (log=1); correct_sn=0\n",
      "bacco.power : normalise_grid1=0 normalise_grid2=0 deconvolve_grid1=1 deconvolve_grid2=1\n",
      "bacco.power : total mass -1.57296e-10 (grid1) -1.57296e-10 (grid2)\n",
      "bacco.power : Doing FFTW\n",
      "bacco.power: FFT took 0.161717 sec\n",
      "bacco.power : Counting modes\n"
     ]
    },
    {
     "name": "stderr",
     "output_type": "stream",
     "text": [
      "2024-02-01 21:07:19,158 bacco.statistics :  ...done in 2.88 s\n",
      "2024-02-01 21:07:19,159 bacco.BiasModel : Done computing power spectra terms.\n"
     ]
    },
    {
     "name": "stdout",
     "output_type": "stream",
     "text": [
      "bacco.power : done counting modes in 2.631964 sec\n",
      "bacco.power : Starting Fourier loop \n",
      "bacco.power : done Fourier loop in 0.005753 secs\n",
      "bacco.power : Deallocating arrays\n"
     ]
    }
   ],
   "source": [
    "bcmbmodel = bacco.bias_model.BiasModel(sim=bcmsim.BaryonSimulation, ngrid=nsdm,\n",
    "                                       npart_for_fake_sim=nsdm,\n",
    "                                       mean_num_dens=0.01, # doesn't matter\n",
    "                                       mode='sdm', sdm=True,\n",
    "                                       damping_scale=ds)\n",
    "bcmpij = bcmbmodel.compute_power_terms(kmin=kmin, kmax=kmax, nbins=nbins, log_binning=log_binning)"
   ]
  },
  {
   "cell_type": "code",
   "execution_count": 73,
   "metadata": {},
   "outputs": [
    {
     "data": {
      "image/png": "[encoded data removed]",
      "text/plain": [
       "<Figure size 1080x1080 with 15 Axes>"
      ]
     },
     "metadata": {
      "needs_background": "light"
     },
     "output_type": "display_data"
    }
   ],
   "source": [
    "fig, ax = plt.subplots(5, 3, figsize=(15, 15), sharex=True, sharey=True, gridspec_kw={'hspace': 0.05, 'wspace': 0.05})\n",
    "\n",
    "ax = ax.flatten()\n",
    "\n",
    "labels = [r'$1 1$', r'$1 \\delta$', r'$1 \\delta^2$', r'$1 s^2$', r'$ 1 \\nabla^2\\delta$',\n",
    "          r'$\\delta \\delta$', r'$\\delta \\delta^2$', r'$\\delta s^2$', r'$\\delta \\nabla^2\\delta$',\n",
    "          r'$\\delta^2 \\delta^2$', r'$\\delta^2 s^2$', r'$\\delta^2 \\nabla^2\\delta$',  r'$s^2 s^2$',\n",
    "          r'$s^2 \\nabla^2\\delta$', r'$\\nabla^2\\delta \\nabla^2\\delta$']\n",
    "\n",
    "for i in range(15):\n",
    "    ax[i].axhline(1, color='k', lw=1)\n",
    "    ax[i].axvline(ds, color='k', lw=1, ls='--')\n",
    "    if i == 0:\n",
    "        ax[i].semilogx(dmopk['k'], bcmpk['pk'] / dmopk['pk'], lw=3, color='royalblue', label='sDM')\n",
    "    mask = bcmpij[i]['k'] < np.pi * nsdm / sim.header['BoxSize']\n",
    "    ax[i].semilogx(bcmpij[i]['k'][mask], bcmpij[i]['pk'][mask] / dmopij[i]['pk'][mask], lw=3, color='darkorange', label=labels[i])\n",
    "    ax[i].legend(fontsize=23)\n",
    "    ax[i].set_ylim(0.8, 1.05)\n",
    "    ax[i].text(ds + 0.05, 0.825, r'$k_{\\rm d}$', fontsize=23)\n",
    "    if i % 3 == 0:\n",
    "        ax[i].set_ylabel(r'$P_{ij, \\mathrm{BCM}} / P_{ij, \\mathrm{DMO}}$', fontsize=23)\n",
    "    if i >= 12:\n",
    "        ax[i].set_xlabel(r'$k \\,\\, [h \\,\\, \\mathrm{Mpc}^{-1}]$', fontsize=23)\n",
    "        bacco.set_logticks(ax[i], axis='x')\n",
    "\n",
    "plt.show()"
   ]
  },
  {
   "cell_type": "markdown",
   "metadata": {},
   "source": [
    "# Compare combination with same bias parameters but for $b_{\\nabla}$\n",
    "This should indicate if we can absorb the full effect of baryons in the laplacian bias parameter."
   ]
  },
  {
   "cell_type": "code",
   "execution_count": 83,
   "metadata": {},
   "outputs": [
    {
     "data": {
      "image/png": "[encoded data removed]",
      "text/plain": [
       "<Figure size 576x432 with 2 Axes>"
      ]
     },
     "metadata": {
      "needs_background": "light"
     },
     "output_type": "display_data"
    }
   ],
   "source": [
    "def combine(biasvec, pnn):\n",
    "    import itertools\n",
    "    biasvec = np.concatenate([[1], biasvec])\n",
    "    prod = np.array(list(itertools.combinations_with_replacement(np.arange(5), r=2)))\n",
    "    pgg = 0\n",
    "    for i in range(15):\n",
    "        fac = 2 if prod[i, 0] != prod[i, 1] else 1\n",
    "        pgg += fac * biasvec[prod[i, 0]] * biasvec[prod[i, 1]] * pnn[i]['pk']\n",
    "    return pgg\n",
    "\n",
    "fig, ax = plt.subplots(1, 1, figsize=(8, 6))\n",
    "\n",
    "biases = [1, 0.2, 0.2, 1]\n",
    "dmopgg = combine(biases, dmopij)\n",
    "bcmpgg = combine(biases, bcmpij)\n",
    "k = dmopij[0]['k']\n",
    "\n",
    "mask = k < 1\n",
    "ax.semilogx(k[mask], bcmpgg[mask] / dmopgg[mask], lw=5, color='royalblue')\n",
    "\n",
    "blaps = np.linspace(-50, 5, 5)\n",
    "for ib, blap in enumerate(blaps):\n",
    "    biases = [1, 0.2, 0.2, blap]\n",
    "    dmopgg = combine(biases, dmopij)\n",
    "    bcmpgg = combine(biases, bcmpij)\n",
    "    k = dmopij[0]['k']\n",
    "\n",
    "    cc = plt.cm.Reds_r(ib / len(blaps))\n",
    "    mask = k < 1\n",
    "    ax.semilogx(k[mask], bcmpgg[mask] / dmopgg[mask], lw=1.5, color=cc)\n",
    "\n",
    "ax.set_xlabel(r'$k \\,\\, [h \\,\\, \\mathrm{Mpc}^{-1}]$', fontsize=23)\n",
    "ax.set_ylabel(r'$P_{\\rm gg, \\mathrm{BCM}} / P_{\\rm gg, \\mathrm{DMO}}$', fontsize=23)\n",
    "bacco.set_logticks(ax, axis='x')\n",
    "\n",
    "cb = plt.colorbar(plt.cm.ScalarMappable(norm=plt.Normalize(vmin=-50, vmax=5), cmap=plt.cm.Reds_r), ax=ax)\n",
    "cb.ax.set_ylabel(r'$b_{\\nabla}$', fontsize=23)\n",
    "\n",
    "plt.show()"
   ]
  }
 ],
 "metadata": {
  "kernelspec": {
   "display_name": "mcnd",
   "language": "python",
   "name": "python3"
  },
  "language_info": {
   "codemirror_mode": {
    "name": "ipython",
    "version": 3
   },
   "file_extension": ".py",
   "mimetype": "text/x-python",
   "name": "python",
   "nbconvert_exporter": "python",
   "pygments_lexer": "ipython3",
   "version": "3.9.17"
  }
 },
 "nbformat": 4,
 "nbformat_minor": 2
}
