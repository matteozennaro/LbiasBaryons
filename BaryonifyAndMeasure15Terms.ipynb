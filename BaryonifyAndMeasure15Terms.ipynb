{
 "cells": [
  {
   "cell_type": "markdown",
   "metadata": {},
   "source": [
    "# Hybrid Lagrangian bias expansion with baryons\n",
    "### - Apply bcm and compare the 15 operators of the lbias model -\n",
    "\n",
    "Project idea:\n",
    "- apply bcm to a simulation\n",
    "- measure 15 terms of lbias before and after baryonification\n",
    "- does bcm change mostly $P_{11}$ or all terms?\n",
    "- create galaxy mock catalogue\n",
    "- can $b_{\\nabla}$ absorb all baryon effects? or we need to use the baryonified $P_{11}$? or all baryonified terms?"
   ]
  },
  {
   "cell_type": "code",
   "execution_count": 1,
   "metadata": {},
   "outputs": [
    {
     "name": "stderr",
     "output_type": "stream",
     "text": [
      "/scratch/mzennaro/miniconda3/envs/mcnd/lib/python3.9/site-packages/pandas/core/computation/expressions.py:21: UserWarning: Pandas requires version '2.8.0' or newer of 'numexpr' (version '2.7.3' currently installed).\n",
      "  from pandas.core.computation.check import NUMEXPR_INSTALLED\n"
     ]
    }
   ],
   "source": [
    "import numpy as np\n",
    "import matplotlib.pyplot as plt\n",
    "import bacco"
   ]
  },
  {
   "cell_type": "markdown",
   "metadata": {},
   "source": [
    "# Load sim"
   ]
  },
  {
   "cell_type": "code",
   "execution_count": 2,
   "metadata": {},
   "outputs": [
    {
     "name": "stderr",
     "output_type": "stream",
     "text": [
      "2024-02-03 23:29:33,196 bacco.sims : Initialising simulation Default\n",
      "2024-02-03 23:29:33,197 bacco.sims : try /dipc_storage/cosmosims/MultiCosmology_N768/nenya_N768_output/0.00/groups_081/fof_subhalo_history_tab_orph_wweight_081\n",
      "2024-02-03 23:29:33,222 bacco.sims : Loading /dipc_storage/cosmosims/MultiCosmology_N768/nenya_N768_output/0.00/groups_081/fof_subhalo_history_tab_orph_wweight_081\n",
      "2024-02-03 23:29:33,251 bacco.cosmo :    initialization took 0.000 secs\n",
      "2024-02-03 23:29:33,353 bacco.sims : ...done in 0.0591 s\n"
     ]
    },
    {
     "name": "stdout",
     "output_type": "stream",
     "text": [
      "-----------------------------------------------\n",
      "Cosmology \"Default\", de_model \"LCDM\" \n",
      "- Paramerers: Omega_cdm = 0.265, Omega_b = 0.05, Omega_de = 0.685, \n",
      "Hubble=0.6, Sigma_8=0.9, A_s=None, ns=1.01, neutrino_mass=0.0, \n",
      "Omega_r=0.0, Omega_k=0.0, tau=0.0952, w0=-1.0, wa=0.0\n",
      "- Power Spectrum: CAMB,   Expansion Factor: 0.9990212338420196,   ReNormalizeInputSpectrum: (False,)\n",
      "-----------------------------------------------\n"
     ]
    }
   ],
   "source": [
    "basedir = '/dipc_storage/cosmosims/MultiCosmology_N768/nenya_N768_output/0.00/'\n",
    "halo_file = 'groups_000/fof_subhalo_history_tab_orph_wweight_000'\n",
    "atarget = 1\n",
    "sim = bacco.Simulation(basedir=basedir, halo_file=halo_file, closest_expfactor=atarget)\n",
    "print(sim.Cosmology)"
   ]
  },
  {
   "cell_type": "markdown",
   "metadata": {},
   "source": [
    "# Baryonify sim\n",
    "\n",
    "After this we have a DMO sim and a BCM sim"
   ]
  },
  {
   "cell_type": "code",
   "execution_count": 3,
   "metadata": {},
   "outputs": [
    {
     "name": "stderr",
     "output_type": "stream",
     "text": [
      "2024-02-03 23:29:33,559 bacco.sims : Reading 1945855 items for Group_M_Crit200\n",
      "2024-02-03 23:29:33,825 bacco.sims : Reading 1945855 items for Group_M_Crit200\n",
      "2024-02-03 23:29:34,073 bacco.sims : Reconstructing sDM\n",
      "2024-02-03 23:29:34,074 bacco.sims : Reading 3526917 items for sDM/ih_pos\n",
      "2024-02-03 23:29:34,266 bacco.sims : Reading 1945855 items for GroupPos\n",
      "2024-02-03 23:29:34,395 bacco.sims : Reading 3526917 items for sDM/ih_vel\n",
      "2024-02-03 23:29:34,589 bacco.sims : Reading 1945855 items for GroupVel\n",
      "2024-02-03 23:29:34,720 bacco.sims : Reading 3526917 items for sDM/offset\n",
      "2024-02-03 23:29:35,051 bacco.sims : Reading 3526917 items for sDM/pos\n",
      "2024-02-03 23:29:35,313 bacco.sims : Reading 3526917 items for sDM/vel\n",
      "2024-02-03 23:29:35,588 bacco.sims : Reading 3526917 items for sDM/ih_ids\n",
      "2024-02-03 23:29:35,768 bacco.sims : Reading 3526917 items for sDM/ids\n",
      "2024-02-03 23:29:36,002 bacco.sims : Done reconstructing sDM\n",
      "2024-02-03 23:29:36,003 bacco.baryons : computing baryon profiles and apply displacements for 29410 halos.\n",
      "2024-02-03 23:29:36,007 bacco.sims : Reading 3526917 items for sDM/len\n"
     ]
    },
    {
     "name": "stdout",
     "output_type": "stream",
     "text": [
      "0"
     ]
    },
    {
     "name": "stderr",
     "output_type": "stream",
     "text": [
      "2024-02-03 23:29:37,788 bacco.baryons : displacement for 29410 halos computed and applied in 1.79 seconds\n",
      "2024-02-03 23:29:37,789 bacco.baryons : \n",
      " -------   BCM   --------- \n",
      " \n",
      "2024-02-03 23:29:37,790 bacco.baryons : Time to create the Baryon Simulation: 4.4 seconds\n",
      "2024-02-03 23:29:37,791 bacco.baryons : Memory used to create the Baryon Simulation: 722.86208 Megabytes\n"
     ]
    }
   ],
   "source": [
    "bcmsim = bacco.Baryons(sim, sim.Cosmology,\n",
    "                       M_c=1.2e14, eta=0.5, beta=0.6,\n",
    "                       M1_z0_cen=1.526e11, epsilon_z0_cen=0.023, alpha_z0_cen=-1.779, gamma_z0_cen=0.547, delta_z0_cen=4.394,\n",
    "                       M1_fsat=1.59, epsilon_fsat=1.56, alpha_fsat=0.16, gamma_fsat=1.67, delta_fsat=0.99,\n",
    "                       M_r = 1e16, beta_r=2., sigma_r=0.1, mu_r =0.3, eject_model='A',\n",
    "                       theta_inn = 0.1, M_inn= 2.3e13, mu_inn=0.31, theta_out = 1.1, R_h = 0.015, alpha_g = 2.,\n",
    "                       displace_dm=False, displace_sdm=True, component_props=[], single_component=None, mode ='truncated', ParticlesRadius = 1.,\n",
    "                       bin=(0.01,90.,100), logger_level=None,  halo_mass_range=(1e2,1e6), nthreads = None,\n",
    "                       halos=None, use_cbaryon=True, alpha_agn = 1., T_agn=1e5, m_agn=0.7, T_field=1e6,\n",
    "                       A_nth=0.495, bound_model='powerlaw', tag='standardAGN'\n",
    "                      )"
   ]
  },
  {
   "cell_type": "code",
   "execution_count": 4,
   "metadata": {},
   "outputs": [
    {
     "name": "stdout",
     "output_type": "stream",
     "text": [
      "{'ngrid': 512, 'interlacing': True, 'log_binning': False, 'log_binning_kmax': 6.283185307179586, 'log_binning_nbins': 255, 'min_k': 0.02454369260617026, 'depmethod': 'tsc', 'correct_grid': True, 'folds': 1.0}\n"
     ]
    }
   ],
   "source": [
    "ngrid = 512\n",
    "kmin = 2*np.pi/sim.header['BoxSize']\n",
    "kmax = np.pi*ngrid/sim.header['BoxSize']\n",
    "log_binning = False\n",
    "nbins = 80 if log_binning else int((kmax - kmin) / kmin)\n",
    "\n",
    "log_binning_kmax = kmax\n",
    "min_k = kmin\n",
    "log_binning_nbins = nbins\n",
    "\n",
    "pkdict = {\n",
    "    'kmin': kmin,\n",
    "    'kmax': kmax,\n",
    "    'ngrid': ngrid,\n",
    "    'log_binning': log_binning,\n",
    "    'nbins': nbins\n",
    "}\n",
    "\n",
    "bacco.configuration.update({'pknbody': {'ngrid': ngrid}})\n",
    "bacco.configuration.update({'pknbody': {'log_binning': log_binning}})\n",
    "bacco.configuration.update({'pknbody': {'min_k': min_k}})\n",
    "bacco.configuration.update({'pknbody': {'log_binning_kmax': log_binning_kmax}})\n",
    "bacco.configuration.update({'pknbody': {'log_binning_nbins': log_binning_nbins}})\n",
    "\n",
    "print(bacco.config['pknbody'])"
   ]
  },
  {
   "cell_type": "code",
   "execution_count": 5,
   "metadata": {},
   "outputs": [
    {
     "name": "stderr",
     "output_type": "stream",
     "text": [
      "2024-02-03 23:29:37,817 bacco.sims : Computing sdm-P(k)\n",
      "2024-02-03 23:29:37,818 bacco.sims : Reconstructing sDM\n",
      "2024-02-03 23:29:37,896 bacco.sims : Reading 3526917 items for sDM/ih_pos\n",
      "2024-02-03 23:29:38,092 bacco.sims : Reading 1945855 items for GroupPos\n",
      "2024-02-03 23:29:38,262 bacco.sims : Reading 3526917 items for sDM/ih_vel\n",
      "2024-02-03 23:29:38,429 bacco.sims : Reading 1945855 items for GroupVel\n",
      "2024-02-03 23:29:38,575 bacco.sims : Reading 3526917 items for sDM/offset\n",
      "2024-02-03 23:29:38,924 bacco.sims : Reading 3526917 items for sDM/pos\n",
      "2024-02-03 23:29:39,215 bacco.sims : Reading 3526917 items for sDM/vel\n",
      "2024-02-03 23:29:39,498 bacco.sims : Reading 3526917 items for sDM/ih_ids\n",
      "2024-02-03 23:29:39,680 bacco.sims : Reading 3526917 items for sDM/ids\n",
      "2024-02-03 23:29:39,902 bacco.sims : Done reconstructing sDM\n",
      "2024-02-03 23:29:39,963 bacco.statistics : Computing the power spectrum with ngrid=512 and interlacing=True\n",
      "2024-02-03 23:29:40,677 bacco.cosmo :    computed CAMB power spectrum at z=0.00 in 0.283 secs\n",
      "2024-02-03 23:29:40,703 bacco.cosmo :    created Pk(z=0) tab from k 8.333333244081587e-05 to 100000.0 h/Mpc\n",
      "2024-02-03 23:29:40,764 bacco.cosmo :    computed halofit at z=0.00 for 'Default' in 0.010 secs\n",
      "2024-02-03 23:29:40,768 bacco.statistics :  setting the grid 512 True\n",
      "2024-02-03 23:29:40,768 bacco.statistics : Computing tsc mesh with ngrid=512 and interlacing=True\n",
      "2024-02-03 23:29:40,769 bacco.statistics : starting deposit 2\n",
      "2024-02-03 23:29:41,601 bacco.statistics :  mesh done in 0.833 s\n",
      "2024-02-03 23:29:41,611 bacco.statistics :  Starting the power spectrum calculation\n"
     ]
    },
    {
     "name": "stdout",
     "output_type": "stream",
     "text": [
      "bacco.mesh : boxsize=256.000000 ngrid=512, nthreads=48, vel_factor=0.000000, interlacing=1, folds=1.000000, 2d=0\n",
      "bacco.mesh : allocating 1024.0 Mb\n",
      "bacco.mesh : binning of 7077888 particles (7077888 with mass)\n",
      "bacco.power : boxsize 256.000000; ngrid 512; nthreads 48; interlacing 1; deposit_method 2; log_binning 0; type 0; precision=single; correct_grid=1 (log=1); correct_sn=0\n",
      "bacco.power : normalise_grid1=1 normalise_grid2=1 deconvolve_grid1=1 deconvolve_grid2=1\n",
      "bacco.power : total mass 7.07789e+06 (grid1) 7.07789e+06 (grid2)\n",
      "bacco.power : Doing FFTW\n",
      "bacco.power: FFT took 0.575586 sec\n",
      "bacco.power : Counting modes\n"
     ]
    },
    {
     "name": "stderr",
     "output_type": "stream",
     "text": [
      "2024-02-03 23:29:46,020 bacco.statistics :  done compute.power\n",
      "2024-02-03 23:29:46,036 bacco.statistics :  power done in 6.07 s\n"
     ]
    },
    {
     "name": "stdout",
     "output_type": "stream",
     "text": [
      "bacco.power : done counting modes in 3.137037 sec\n",
      "bacco.power : Starting Fourier loop \n",
      "bacco.power : done Fourier loop in 0.005855 secs\n",
      "bacco.power : Deallocating arrays\n"
     ]
    }
   ],
   "source": [
    "dmopk = sim.get_sdmPower(**pkdict)"
   ]
  },
  {
   "cell_type": "code",
   "execution_count": 6,
   "metadata": {},
   "outputs": [
    {
     "name": "stderr",
     "output_type": "stream",
     "text": [
      "2024-02-03 23:29:46,234 bacco.sims : Computing sdm-P(k)\n",
      "2024-02-03 23:29:46,278 bacco.statistics : Computing the power spectrum with ngrid=512 and interlacing=True\n",
      "2024-02-03 23:29:46,507 bacco.cosmo :    computed CAMB power spectrum at z=0.00 in 0.227 secs\n",
      "2024-02-03 23:29:46,558 bacco.cosmo :    created Pk(z=0) tab from k 8.333333244081587e-05 to 100000.0 h/Mpc\n",
      "2024-02-03 23:29:46,601 bacco.cosmo :    computed halofit at z=0.00 for 'Default' in 0.004 secs\n",
      "2024-02-03 23:29:46,602 bacco.statistics :  setting the grid 512 True\n",
      "2024-02-03 23:29:46,603 bacco.statistics : Computing tsc mesh with ngrid=512 and interlacing=True\n",
      "2024-02-03 23:29:46,603 bacco.statistics : starting deposit 2\n"
     ]
    },
    {
     "name": "stdout",
     "output_type": "stream",
     "text": [
      "bacco.mesh : boxsize=256.000000 ngrid=512, nthreads=48, vel_factor=0.000000, interlacing=1, folds=1.000000, 2d=0\n",
      "bacco.mesh : allocating 1024.0 Mb\n"
     ]
    },
    {
     "name": "stderr",
     "output_type": "stream",
     "text": [
      "2024-02-03 23:29:47,512 bacco.statistics :  mesh done in 0.91 s\n",
      "2024-02-03 23:29:47,524 bacco.statistics :  Starting the power spectrum calculation\n"
     ]
    },
    {
     "name": "stdout",
     "output_type": "stream",
     "text": [
      "bacco.mesh : binning of 7077888 particles (7077888 with mass)\n",
      "bacco.power : boxsize 256.000000; ngrid 512; nthreads 48; interlacing 1; deposit_method 2; log_binning 0; type 0; precision=single; correct_grid=1 (log=1); correct_sn=0\n",
      "bacco.power : normalise_grid1=1 normalise_grid2=1 deconvolve_grid1=1 deconvolve_grid2=1\n",
      "bacco.power : total mass 7.07789e+06 (grid1) 7.07789e+06 (grid2)\n",
      "bacco.power : Doing FFTW\n",
      "bacco.power: FFT took 0.373163 sec\n",
      "bacco.power : Counting modes\n"
     ]
    },
    {
     "name": "stderr",
     "output_type": "stream",
     "text": [
      "2024-02-03 23:29:51,541 bacco.statistics :  done compute.power\n",
      "2024-02-03 23:29:51,545 bacco.statistics :  power done in 5.27 s\n"
     ]
    },
    {
     "name": "stdout",
     "output_type": "stream",
     "text": [
      "bacco.power : done counting modes in 3.038946 sec\n",
      "bacco.power : Starting Fourier loop \n",
      "bacco.power : done Fourier loop in 0.008571 secs\n",
      "bacco.power : Deallocating arrays\n"
     ]
    }
   ],
   "source": [
    "bcmpk = bcmsim.BaryonSimulation.get_sdmPower(**pkdict)"
   ]
  },
  {
   "cell_type": "code",
   "execution_count": 7,
   "metadata": {},
   "outputs": [
    {
     "data": {
      "image/png": "[encoded data removed]",
      "text/plain": [
       "<Figure size 576x648 with 2 Axes>"
      ]
     },
     "metadata": {
      "needs_background": "light"
     },
     "output_type": "display_data"
    }
   ],
   "source": [
    "fig, ax = plt.subplots(2, 1, figsize=(8, 9), sharex=True, gridspec_kw={'hspace': 0})\n",
    "\n",
    "ax[0].loglog(dmopk['k'], dmopk['pk'], lw=3, color='royalblue', label='DMO')\n",
    "ax[0].loglog(bcmpk['k'], bcmpk['pk'], lw=3, color='darkorange', label='BCM')\n",
    "ax[0].legend(fontsize=23)\n",
    "\n",
    "ax[1].semilogx(bcmpk['k'], bcmpk['pk']/dmopk['pk'], lw=3, color='darkorange')\n",
    "\n",
    "ax[1].set_xlabel(r'$k \\,\\, [h \\,\\, \\mathrm{Mpc}^{-1}]$', fontsize=23)\n",
    "ax[0].set_ylabel(r'$P(k) \\,\\, [h^{-3} \\,\\, \\mathrm{Mpc}^3]$', fontsize=23)\n",
    "ax[1].set_ylabel(r'$P / P_{\\mathrm{DMO}}$', fontsize=23)\n",
    "bacco.set_logticks(ax[0])\n",
    "bacco.set_logticks(ax[1], axis='x')\n",
    "\n",
    "plt.show()"
   ]
  },
  {
   "cell_type": "markdown",
   "metadata": {},
   "source": [
    "# Measure 15 terms of lbias in DMO and BCM sims"
   ]
  },
  {
   "cell_type": "code",
   "execution_count": 8,
   "metadata": {},
   "outputs": [
    {
     "name": "stderr",
     "output_type": "stream",
     "text": [
      "2024-02-03 23:29:52,741 bacco.BiasModel : Initialising Bias Model class ...\n",
      "2024-02-03 23:29:52,841 bacco.BiasModel : Computing power spectra of bias terms ...\n",
      "2024-02-03 23:29:52,843 bacco.BiasModel : Memory used: 2.731671552 Gigabytes\n",
      "2024-02-03 23:29:52,843 bacco.BiasModel : Computing bias model power spectra...\n",
      "2024-02-03 23:29:52,844 bacco.BiasModel : 0.9990212338420196\n",
      "2024-02-03 23:29:52,845 bacco.BiasModel : -----------------------------------------------\n",
      "Cosmology \"Default\", de_model \"LCDM\" \n",
      "- Paramerers: Omega_cdm = 0.265, Omega_b = 0.05, Omega_de = 0.685, \n",
      "Hubble=0.6, Sigma_8=0.9, A_s=None, ns=1.01, neutrino_mass=0.0, \n",
      "Omega_r=0.0, Omega_k=0.0, tau=0.0952, w0=-1.0, wa=0.0\n",
      "- Power Spectrum: CAMB,   Expansion Factor: 0.9990212338420196,   ReNormalizeInputSpectrum: (False,)\n",
      "-----------------------------------------------\n",
      "2024-02-03 23:29:52,845 bacco.BiasModel : Computing bias terms in lagrangian space and moving to Eulerian ...\n",
      "2024-02-03 23:29:52,846 bacco.BiasModel : Computing expansion bias terms in eulerian coords ...\n",
      "2024-02-03 23:29:52,847 bacco.BiasModel : Memory used: 2.731671552 Gigabytes\n",
      "2024-02-03 23:29:52,848 bacco.BiasModel : Computing delta_to_tidal_field with 48 threads...\n",
      "2024-02-03 23:29:52,849 bacco.BiasModel : fttw plan\n",
      "2024-02-03 23:29:52,849 bacco.BiasModel : Computing linear field ...\n",
      "2024-02-03 23:29:52,850 bacco.BiasModel : Memory used: 2.731679744 Gigabytes\n"
     ]
    },
    {
     "name": "stdout",
     "output_type": "stream",
     "text": [
      "Number of sdm particles: 192\n"
     ]
    },
    {
     "name": "stderr",
     "output_type": "stream",
     "text": [
      "2024-02-03 23:29:53,437 bacco.BiasModel : fttw freqs\n",
      "2024-02-03 23:29:53,438 bacco.BiasModel : tidk freqs\n"
     ]
    },
    {
     "name": "stdout",
     "output_type": "stream",
     "text": [
      "bacco.lss_scaler : 288 P(k) values; Di = (0.999481, 0.998948, 0.998444, 0.998444); nthreads =48; seed =-406168 \n",
      "bacco.lss_scaler: start computing linear field...\n",
      "bacco.lss_scaler: seed =-406168 ngrid=192 pkfixed=1 phase=0.000000, phase_type=0; precision=single \n"
     ]
    },
    {
     "name": "stderr",
     "output_type": "stream",
     "text": [
      "2024-02-03 23:29:53,764 bacco.BiasModel : ifft\n",
      "2024-02-03 23:29:55,377 bacco.BiasModel : Computing laplacian ...\n",
      "2024-02-03 23:29:55,379 bacco.BiasModel : Memory used: 3.025424384 Gigabytes\n",
      "2024-02-03 23:29:55,686 bacco.BiasModel : Computing bias terms in lagrangian coords ...\n",
      "2024-02-03 23:29:55,690 bacco.BiasModel : Memory used: 3.065085952 Gigabytes\n",
      "2024-02-03 23:29:55,695 bacco.BiasModel : Computing delta squared ...\n",
      "2024-02-03 23:29:55,697 bacco.BiasModel : Memory used: 3.065085952 Gigabytes\n",
      "2024-02-03 23:29:55,725 bacco.BiasModel : Computing tidal component G2 with the given tidal field\n",
      "2024-02-03 23:29:55,726 bacco.BiasModel : Memory used: 3.093262336 Gigabytes\n",
      "2024-02-03 23:29:56,258 bacco.BiasModel : Transforming to eulerian coords ...\n",
      "2024-02-03 23:29:56,260 bacco.BiasModel : Memory used: 2.852216832 Gigabytes\n",
      "2024-02-03 23:29:56,261 bacco.BiasModel : Finding indices from lagrangian neighbours ...\n",
      "2024-02-03 23:29:56,262 bacco.BiasModel : Memory used: 2.852216832 Gigabytes\n",
      "2024-02-03 23:29:56,263 bacco.BiasModel : Computing regular grid ...\n",
      "2024-02-03 23:29:56,264 bacco.BiasModel : Memory used: 2.852216832 Gigabytes\n",
      "2024-02-03 23:29:57,027 bacco.sims : Build cKDTree\n",
      "2024-02-03 23:30:01,237 bacco.sims : query cKDTree\n",
      "2024-02-03 23:30:02,245 bacco.BiasModel : mesh #0\n",
      "2024-02-03 23:30:02,246 bacco.statistics : Computing cic mesh with ngrid=192 and interlacing=False\n",
      "2024-02-03 23:30:02,246 bacco.statistics : starting deposit 1\n",
      "2024-02-03 23:30:02,312 bacco.statistics :  mesh done in 0.0666 s\n",
      "2024-02-03 23:30:02,315 bacco.BiasModel : mesh #1\n",
      "2024-02-03 23:30:02,315 bacco.statistics : Computing cic mesh with ngrid=192 and interlacing=False\n",
      "2024-02-03 23:30:02,315 bacco.statistics : starting deposit 1\n",
      "2024-02-03 23:30:02,406 bacco.statistics :  mesh done in 0.0908 s\n",
      "2024-02-03 23:30:02,407 bacco.BiasModel : mesh #2\n",
      "2024-02-03 23:30:02,407 bacco.statistics : Computing cic mesh with ngrid=192 and interlacing=False\n",
      "2024-02-03 23:30:02,409 bacco.statistics : starting deposit 1\n"
     ]
    },
    {
     "name": "stdout",
     "output_type": "stream",
     "text": [
      "bacco.mesh : boxsize=256.000000 ngrid=192, nthreads=48, vel_factor=0.000000, interlacing=0, folds=1.000000, 2d=0\n",
      "bacco.mesh : allocating 27.0 Mb\n",
      "bacco.mesh : binning of 7077888 particles (7077888 with mass)\n",
      "bacco.mesh : boxsize=256.000000 ngrid=192, nthreads=48, vel_factor=0.000000, interlacing=0, folds=1.000000, 2d=0\n",
      "bacco.mesh : allocating 27.0 Mb\n",
      "bacco.mesh : binning of 7077888 particles (7077888 with mass)\n",
      "bacco.mesh : boxsize=256.000000 ngrid=192, nthreads=48, vel_factor=0.000000, interlacing=0, folds=1.000000, 2d=0\n",
      "bacco.mesh : allocating 27.0 Mb\n"
     ]
    },
    {
     "name": "stderr",
     "output_type": "stream",
     "text": [
      "2024-02-03 23:30:02,483 bacco.statistics :  mesh done in 0.076 s\n",
      "2024-02-03 23:30:02,483 bacco.BiasModel : mesh #3\n",
      "2024-02-03 23:30:02,484 bacco.statistics : Computing cic mesh with ngrid=192 and interlacing=False\n",
      "2024-02-03 23:30:02,484 bacco.statistics : starting deposit 1\n",
      "2024-02-03 23:30:02,547 bacco.statistics :  mesh done in 0.0628 s\n",
      "2024-02-03 23:30:02,547 bacco.BiasModel : mesh #4\n",
      "2024-02-03 23:30:02,548 bacco.statistics : Computing cic mesh with ngrid=192 and interlacing=False\n",
      "2024-02-03 23:30:02,548 bacco.statistics : starting deposit 1\n",
      "2024-02-03 23:30:02,627 bacco.statistics :  mesh done in 0.0788 s\n",
      "2024-02-03 23:30:02,661 bacco.BiasModel : Finished computing bias terms in lagrangian space and moving to Eulerian.\n",
      "2024-02-03 23:30:02,662 bacco.BiasModel : Defining prod...\n",
      "2024-02-03 23:30:02,662 bacco.BiasModel : np.arange(bias_terms_eul.shape[0]) = [0 1 2 3 4]\n"
     ]
    },
    {
     "name": "stdout",
     "output_type": "stream",
     "text": [
      "bacco.mesh : binning of 7077888 particles (7077888 with mass)\n",
      "bacco.mesh : boxsize=256.000000 ngrid=192, nthreads=48, vel_factor=0.000000, interlacing=0, folds=1.000000, 2d=0\n",
      "bacco.mesh : allocating 27.0 Mb\n",
      "bacco.mesh : binning of 7077888 particles (7077888 with mass)\n",
      "bacco.mesh : boxsize=256.000000 ngrid=192, nthreads=48, vel_factor=0.000000, interlacing=0, folds=1.000000, 2d=0\n",
      "bacco.mesh : allocating 27.0 Mb\n",
      "bacco.mesh : binning of 7077888 particles (7077888 with mass)\n"
     ]
    },
    {
     "name": "stderr",
     "output_type": "stream",
     "text": [
      "2024-02-03 23:30:05,943 bacco.statistics : Computing the power spectrum with ngrid=192 and interlacing=False\n"
     ]
    },
    {
     "name": "stdout",
     "output_type": "stream",
     "text": [
      "bacco.power : boxsize 256.000000; ngrid 192; nthreads 48; interlacing 0; deposit_method 1; log_binning 0; type 1; precision=single; correct_grid=1 (log=1); correct_sn=0\n",
      "bacco.power : normalise_grid1=0 normalise_grid2=0 deconvolve_grid1=1 deconvolve_grid2=1\n",
      "bacco.power : total mass 1 (grid1) 1 (grid2)\n",
      "bacco.power : Doing FFTW\n",
      "bacco.power: FFT took 0.147553 sec\n",
      "bacco.power : Counting modes\n"
     ]
    },
    {
     "name": "stderr",
     "output_type": "stream",
     "text": [
      "2024-02-03 23:30:09,078 bacco.statistics :  ...done in 3.14 s\n",
      "2024-02-03 23:30:09,110 bacco.statistics : Computing the power spectrum with ngrid=192 and interlacing=False\n"
     ]
    },
    {
     "name": "stdout",
     "output_type": "stream",
     "text": [
      "bacco.power : done counting modes in 2.856518 sec\n",
      "bacco.power : Starting Fourier loop \n",
      "bacco.power : done Fourier loop in 0.005785 secs\n",
      "bacco.power : Deallocating arrays\n",
      "bacco.power : boxsize 256.000000; ngrid 192; nthreads 48; interlacing 0; deposit_method 1; log_binning 0; type 1; precision=single; correct_grid=1 (log=1); correct_sn=0\n",
      "bacco.power : normalise_grid1=0 normalise_grid2=0 deconvolve_grid1=1 deconvolve_grid2=1\n",
      "bacco.power : total mass 1 (grid1) 2.21317e-11 (grid2)\n",
      "bacco.power : Doing FFTW\n",
      "bacco.power: FFT took 0.152930 sec\n",
      "bacco.power : Counting modes\n"
     ]
    },
    {
     "name": "stderr",
     "output_type": "stream",
     "text": [
      "2024-02-03 23:30:12,117 bacco.statistics :  ...done in 3.01 s\n",
      "2024-02-03 23:30:12,140 bacco.statistics : Computing the power spectrum with ngrid=192 and interlacing=False\n"
     ]
    },
    {
     "name": "stdout",
     "output_type": "stream",
     "text": [
      "bacco.power : done counting modes in 2.765100 sec\n",
      "bacco.power : Starting Fourier loop \n",
      "bacco.power : done Fourier loop in 0.005069 secs\n",
      "bacco.power : Deallocating arrays\n",
      "bacco.power : boxsize 256.000000; ngrid 192; nthreads 48; interlacing 0; deposit_method 1; log_binning 0; type 1; precision=single; correct_grid=1 (log=0); correct_sn=0\n",
      "bacco.power : normalise_grid1=0 normalise_grid2=0 deconvolve_grid1=1 deconvolve_grid2=1\n",
      "bacco.power : total mass 1 (grid1) -4.61179e-07 (grid2)\n",
      "bacco.power : Doing FFTW\n",
      "bacco.power: FFT took 0.031987 sec\n",
      "bacco.power : Counting modes\n"
     ]
    },
    {
     "name": "stderr",
     "output_type": "stream",
     "text": [
      "2024-02-03 23:30:14,960 bacco.statistics :  ...done in 2.82 s\n",
      "2024-02-03 23:30:14,980 bacco.statistics : Computing the power spectrum with ngrid=192 and interlacing=False\n"
     ]
    },
    {
     "name": "stdout",
     "output_type": "stream",
     "text": [
      "bacco.power : done counting modes in 2.723252 sec\n",
      "bacco.power : Starting Fourier loop \n",
      "bacco.power : done Fourier loop in 0.005783 secs\n",
      "bacco.power : Deallocating arrays\n",
      "bacco.power : boxsize 256.000000; ngrid 192; nthreads 48; interlacing 0; deposit_method 1; log_binning 0; type 1; precision=single; correct_grid=1 (log=0); correct_sn=0\n",
      "bacco.power : normalise_grid1=0 normalise_grid2=0 deconvolve_grid1=1 deconvolve_grid2=1\n",
      "bacco.power : total mass 1 (grid1) -2.68684e-07 (grid2)\n",
      "bacco.power : Doing FFTW\n",
      "bacco.power: FFT took 0.182555 sec\n",
      "bacco.power : Counting modes\n"
     ]
    },
    {
     "name": "stderr",
     "output_type": "stream",
     "text": [
      "2024-02-03 23:30:18,016 bacco.statistics :  ...done in 3.04 s\n",
      "2024-02-03 23:30:18,040 bacco.statistics : Computing the power spectrum with ngrid=192 and interlacing=False\n"
     ]
    },
    {
     "name": "stdout",
     "output_type": "stream",
     "text": [
      "bacco.power : done counting modes in 2.759439 sec\n",
      "bacco.power : Starting Fourier loop \n",
      "bacco.power : done Fourier loop in 0.005623 secs\n",
      "bacco.power : Deallocating arrays\n",
      "bacco.power : boxsize 256.000000; ngrid 192; nthreads 48; interlacing 0; deposit_method 1; log_binning 0; type 1; precision=single; correct_grid=1 (log=0); correct_sn=0\n",
      "bacco.power : normalise_grid1=0 normalise_grid2=0 deconvolve_grid1=1 deconvolve_grid2=1\n",
      "bacco.power : total mass 1 (grid1) -7.4357e-11 (grid2)\n",
      "bacco.power : Doing FFTW\n",
      "bacco.power: FFT took 0.179190 sec\n",
      "bacco.power : Counting modes\n"
     ]
    },
    {
     "name": "stderr",
     "output_type": "stream",
     "text": [
      "2024-02-03 23:30:21,157 bacco.statistics :  ...done in 3.12 s\n",
      "2024-02-03 23:30:21,191 bacco.statistics : Computing the power spectrum with ngrid=192 and interlacing=False\n"
     ]
    },
    {
     "name": "stdout",
     "output_type": "stream",
     "text": [
      "bacco.power : done counting modes in 2.867892 sec\n",
      "bacco.power : Starting Fourier loop \n",
      "bacco.power : done Fourier loop in 0.005670 secs\n",
      "bacco.power : Deallocating arrays\n"
     ]
    },
    {
     "name": "stderr",
     "output_type": "stream",
     "text": [
      "2024-02-03 23:30:24,139 bacco.statistics :  ...done in 2.95 s\n",
      "2024-02-03 23:30:24,172 bacco.statistics : Computing the power spectrum with ngrid=192 and interlacing=False\n"
     ]
    },
    {
     "name": "stdout",
     "output_type": "stream",
     "text": [
      "bacco.power : boxsize 256.000000; ngrid 192; nthreads 48; interlacing 0; deposit_method 1; log_binning 0; type 1; precision=single; correct_grid=1 (log=1); correct_sn=0\n",
      "bacco.power : normalise_grid1=0 normalise_grid2=0 deconvolve_grid1=1 deconvolve_grid2=1\n",
      "bacco.power : total mass 2.21317e-11 (grid1) 2.21317e-11 (grid2)\n",
      "bacco.power : Doing FFTW\n",
      "bacco.power: FFT took 0.166976 sec\n",
      "bacco.power : Counting modes\n",
      "bacco.power : done counting modes in 2.690518 sec\n",
      "bacco.power : Starting Fourier loop \n",
      "bacco.power : done Fourier loop in 0.005791 secs\n",
      "bacco.power : Deallocating arrays\n",
      "bacco.power : boxsize 256.000000; ngrid 192; nthreads 48; interlacing 0; deposit_method 1; log_binning 0; type 1; precision=single; correct_grid=1 (log=1); correct_sn=0\n",
      "bacco.power : normalise_grid1=0 normalise_grid2=0 deconvolve_grid1=1 deconvolve_grid2=1\n",
      "bacco.power : total mass 2.21317e-11 (grid1) -4.61179e-07 (grid2)\n",
      "bacco.power : Doing FFTW\n",
      "bacco.power: FFT took 0.171580 sec\n",
      "bacco.power : Counting modes\n"
     ]
    },
    {
     "name": "stderr",
     "output_type": "stream",
     "text": [
      "2024-02-03 23:30:27,360 bacco.statistics :  ...done in 3.19 s\n",
      "2024-02-03 23:30:27,394 bacco.statistics : Computing the power spectrum with ngrid=192 and interlacing=False\n"
     ]
    },
    {
     "name": "stdout",
     "output_type": "stream",
     "text": [
      "bacco.power : done counting modes in 2.932229 sec\n",
      "bacco.power : Starting Fourier loop \n",
      "bacco.power : done Fourier loop in 0.002964 secs\n",
      "bacco.power : Deallocating arrays\n",
      "bacco.power : boxsize 256.000000; ngrid 192; nthreads 48; interlacing 0; deposit_method 1; log_binning 0; type 1; precision=single; correct_grid=1 (log=0); correct_sn=0\n",
      "bacco.power : normalise_grid1=0 normalise_grid2=0 deconvolve_grid1=1 deconvolve_grid2=1\n",
      "bacco.power : total mass 2.21317e-11 (grid1) -2.68684e-07 (grid2)\n",
      "bacco.power : Doing FFTW\n",
      "bacco.power: FFT took 0.182013 sec\n",
      "bacco.power : Counting modes\n"
     ]
    },
    {
     "name": "stderr",
     "output_type": "stream",
     "text": [
      "2024-02-03 23:30:30,507 bacco.statistics :  ...done in 3.11 s\n",
      "2024-02-03 23:30:30,541 bacco.statistics : Computing the power spectrum with ngrid=192 and interlacing=False\n"
     ]
    },
    {
     "name": "stdout",
     "output_type": "stream",
     "text": [
      "bacco.power : done counting modes in 2.851855 sec\n",
      "bacco.power : Starting Fourier loop \n",
      "bacco.power : done Fourier loop in 0.003933 secs\n",
      "bacco.power : Deallocating arrays\n",
      "bacco.power : boxsize 256.000000; ngrid 192; nthreads 48; interlacing 0; deposit_method 1; log_binning 0; type 1; precision=single; correct_grid=1 (log=0); correct_sn=0\n",
      "bacco.power : normalise_grid1=0 normalise_grid2=0 deconvolve_grid1=1 deconvolve_grid2=1\n",
      "bacco.power : total mass 2.21317e-11 (grid1) -7.4357e-11 (grid2)\n",
      "bacco.power : Doing FFTW\n",
      "bacco.power: FFT took 0.166984 sec\n",
      "bacco.power : Counting modes\n"
     ]
    },
    {
     "name": "stderr",
     "output_type": "stream",
     "text": [
      "2024-02-03 23:30:33,635 bacco.statistics :  ...done in 3.09 s\n",
      "2024-02-03 23:30:33,657 bacco.statistics : Computing the power spectrum with ngrid=192 and interlacing=False\n"
     ]
    },
    {
     "name": "stdout",
     "output_type": "stream",
     "text": [
      "bacco.power : done counting modes in 2.833908 sec\n",
      "bacco.power : Starting Fourier loop \n",
      "bacco.power : done Fourier loop in 0.005456 secs\n",
      "bacco.power : Deallocating arrays\n",
      "bacco.power : boxsize 256.000000; ngrid 192; nthreads 48; interlacing 0; deposit_method 1; log_binning 0; type 1; precision=single; correct_grid=1 (log=1); correct_sn=0\n",
      "bacco.power : normalise_grid1=0 normalise_grid2=0 deconvolve_grid1=1 deconvolve_grid2=1\n",
      "bacco.power : total mass -4.61179e-07 (grid1) -4.61179e-07 (grid2)\n",
      "bacco.power : Doing FFTW\n",
      "bacco.power: FFT took 0.155280 sec\n",
      "bacco.power : Counting modes\n"
     ]
    },
    {
     "name": "stderr",
     "output_type": "stream",
     "text": [
      "2024-02-03 23:30:36,615 bacco.statistics :  ...done in 2.96 s\n",
      "2024-02-03 23:30:36,638 bacco.statistics : Computing the power spectrum with ngrid=192 and interlacing=False\n"
     ]
    },
    {
     "name": "stdout",
     "output_type": "stream",
     "text": [
      "bacco.power : done counting modes in 2.703382 sec\n",
      "bacco.power : Starting Fourier loop \n",
      "bacco.power : done Fourier loop in 0.005581 secs\n",
      "bacco.power : Deallocating arrays\n",
      "bacco.power : boxsize 256.000000; ngrid 192; nthreads 48; interlacing 0; deposit_method 1; log_binning 0; type 1; precision=single; correct_grid=1 (log=1); correct_sn=0\n",
      "bacco.power : normalise_grid1=0 normalise_grid2=0 deconvolve_grid1=1 deconvolve_grid2=1\n",
      "bacco.power : total mass -4.61179e-07 (grid1) -2.68684e-07 (grid2)\n",
      "bacco.power : Doing FFTW\n",
      "bacco.power: FFT took 0.135363 sec\n",
      "bacco.power : Counting modes\n"
     ]
    },
    {
     "name": "stderr",
     "output_type": "stream",
     "text": [
      "2024-02-03 23:30:39,699 bacco.statistics :  ...done in 3.06 s\n",
      "2024-02-03 23:30:39,722 bacco.statistics : Computing the power spectrum with ngrid=192 and interlacing=False\n"
     ]
    },
    {
     "name": "stdout",
     "output_type": "stream",
     "text": [
      "bacco.power : done counting modes in 2.819927 sec\n",
      "bacco.power : Starting Fourier loop \n",
      "bacco.power : done Fourier loop in 0.005619 secs\n",
      "bacco.power : Deallocating arrays\n",
      "bacco.power : boxsize 256.000000; ngrid 192; nthreads 48; interlacing 0; deposit_method 1; log_binning 0; type 1; precision=single; correct_grid=0 (log=0); correct_sn=0\n",
      "bacco.power : normalise_grid1=0 normalise_grid2=0 deconvolve_grid1=1 deconvolve_grid2=1\n",
      "bacco.power : total mass -4.61179e-07 (grid1) -7.4357e-11 (grid2)\n",
      "bacco.power : Doing FFTW\n",
      "bacco.power: FFT took 0.145973 sec\n",
      "bacco.power : Counting modes\n"
     ]
    },
    {
     "name": "stderr",
     "output_type": "stream",
     "text": [
      "2024-02-03 23:30:42,634 bacco.statistics :  ...done in 2.91 s\n",
      "2024-02-03 23:30:42,659 bacco.statistics : Computing the power spectrum with ngrid=192 and interlacing=False\n"
     ]
    },
    {
     "name": "stdout",
     "output_type": "stream",
     "text": [
      "bacco.power : done counting modes in 2.678186 sec\n",
      "bacco.power : Starting Fourier loop \n",
      "bacco.power : done Fourier loop in 0.005661 secs\n",
      "bacco.power : Deallocating arrays\n",
      "bacco.power : boxsize 256.000000; ngrid 192; nthreads 48; interlacing 0; deposit_method 1; log_binning 0; type 1; precision=single; correct_grid=1 (log=1); correct_sn=0\n",
      "bacco.power : normalise_grid1=0 normalise_grid2=0 deconvolve_grid1=1 deconvolve_grid2=1\n",
      "bacco.power : total mass -2.68684e-07 (grid1) -2.68684e-07 (grid2)\n",
      "bacco.power : Doing FFTW\n",
      "bacco.power: FFT took 0.160564 sec\n",
      "bacco.power : Counting modes\n"
     ]
    },
    {
     "name": "stderr",
     "output_type": "stream",
     "text": [
      "2024-02-03 23:30:45,409 bacco.statistics :  ...done in 2.75 s\n",
      "2024-02-03 23:30:45,429 bacco.statistics : Computing the power spectrum with ngrid=192 and interlacing=False\n"
     ]
    },
    {
     "name": "stdout",
     "output_type": "stream",
     "text": [
      "bacco.power : done counting modes in 2.511068 sec\n",
      "bacco.power : Starting Fourier loop \n",
      "bacco.power : done Fourier loop in 0.005710 secs\n",
      "bacco.power : Deallocating arrays\n",
      "bacco.power : boxsize 256.000000; ngrid 192; nthreads 48; interlacing 0; deposit_method 1; log_binning 0; type 1; precision=single; correct_grid=1 (log=0); correct_sn=0\n",
      "bacco.power : normalise_grid1=0 normalise_grid2=0 deconvolve_grid1=1 deconvolve_grid2=1\n",
      "bacco.power : total mass -2.68684e-07 (grid1) -7.4357e-11 (grid2)\n",
      "bacco.power : Doing FFTW\n",
      "bacco.power: FFT took 0.060873 sec\n",
      "bacco.power : Counting modes\n"
     ]
    },
    {
     "name": "stderr",
     "output_type": "stream",
     "text": [
      "2024-02-03 23:30:48,220 bacco.statistics :  ...done in 2.79 s\n",
      "2024-02-03 23:30:48,246 bacco.statistics : Computing the power spectrum with ngrid=192 and interlacing=False\n"
     ]
    },
    {
     "name": "stdout",
     "output_type": "stream",
     "text": [
      "bacco.power : done counting modes in 2.636616 sec\n",
      "bacco.power : Starting Fourier loop \n",
      "bacco.power : done Fourier loop in 0.004442 secs\n",
      "bacco.power : Deallocating arrays\n",
      "bacco.power : boxsize 256.000000; ngrid 192; nthreads 48; interlacing 0; deposit_method 1; log_binning 0; type 1; precision=single; correct_grid=1 (log=1); correct_sn=0\n",
      "bacco.power : normalise_grid1=0 normalise_grid2=0 deconvolve_grid1=1 deconvolve_grid2=1\n",
      "bacco.power : total mass -7.4357e-11 (grid1) -7.4357e-11 (grid2)\n",
      "bacco.power : Doing FFTW\n",
      "bacco.power: FFT took 0.152025 sec\n",
      "bacco.power : Counting modes\n"
     ]
    },
    {
     "name": "stderr",
     "output_type": "stream",
     "text": [
      "2024-02-03 23:30:51,437 bacco.statistics :  ...done in 3.19 s\n",
      "2024-02-03 23:30:51,439 bacco.BiasModel : Done computing power spectra terms.\n"
     ]
    },
    {
     "name": "stdout",
     "output_type": "stream",
     "text": [
      "bacco.power : done counting modes in 2.846582 sec\n",
      "bacco.power : Starting Fourier loop \n",
      "bacco.power : done Fourier loop in 0.011680 secs\n",
      "bacco.power : Deallocating arrays\n"
     ]
    }
   ],
   "source": [
    "# dumping scale\n",
    "ds = 0.75\n",
    "\n",
    "nsdm = int(np.cbrt(sim.header['NpartTotal']) / 4)\n",
    "\n",
    "print('Number of sdm particles: {}'.format(nsdm))\n",
    "\n",
    "dmobmodel = bacco.bias_model.BiasModel(sim=sim, ngrid=nsdm,\n",
    "                                       npart_for_fake_sim=nsdm,\n",
    "                                       mean_num_dens=0.01, # doesn't matter\n",
    "                                       mode='sdm', sdm=True,\n",
    "                                       damping_scale=ds)\n",
    "dmopij = dmobmodel.compute_power_terms(kmin=kmin, kmax=kmax, nbins=nbins, log_binning=log_binning)"
   ]
  },
  {
   "cell_type": "code",
   "execution_count": 9,
   "metadata": {},
   "outputs": [
    {
     "name": "stderr",
     "output_type": "stream",
     "text": [
      "2024-02-03 23:30:51,459 bacco.BiasModel : Initialising Bias Model class ...\n",
      "2024-02-03 23:30:51,543 bacco.BiasModel : Computing power spectra of bias terms ...\n",
      "2024-02-03 23:30:51,544 bacco.BiasModel : Memory used: 3.283664896 Gigabytes\n",
      "2024-02-03 23:30:51,545 bacco.BiasModel : Computing bias model power spectra...\n",
      "2024-02-03 23:30:51,545 bacco.BiasModel : 0.9990212338420196\n",
      "2024-02-03 23:30:51,546 bacco.BiasModel : -----------------------------------------------\n",
      "Cosmology \"Default\", de_model \"LCDM\" \n",
      "- Paramerers: Omega_cdm = 0.265, Omega_b = 0.05, Omega_de = 0.685, \n",
      "Hubble=0.6, Sigma_8=0.9, A_s=None, ns=1.01, neutrino_mass=0.0, \n",
      "Omega_r=0.0, Omega_k=0.0, tau=0.0952, w0=-1.0, wa=0.0\n",
      "- Power Spectrum: CAMB,   Expansion Factor: 0.9990212338420196,   ReNormalizeInputSpectrum: (False,)\n",
      "-----------------------------------------------\n",
      "2024-02-03 23:30:51,546 bacco.BiasModel : Computing bias terms in lagrangian space and moving to Eulerian ...\n",
      "2024-02-03 23:30:51,547 bacco.BiasModel : Computing expansion bias terms in eulerian coords ...\n",
      "2024-02-03 23:30:51,548 bacco.BiasModel : Memory used: 3.283664896 Gigabytes\n",
      "2024-02-03 23:30:51,548 bacco.BiasModel : Computing delta_to_tidal_field with 48 threads...\n",
      "2024-02-03 23:30:51,549 bacco.BiasModel : fttw plan\n",
      "2024-02-03 23:30:51,549 bacco.BiasModel : Computing linear field ...\n",
      "2024-02-03 23:30:51,550 bacco.BiasModel : Memory used: 3.283664896 Gigabytes\n",
      "2024-02-03 23:30:54,088 bacco.BiasModel : fttw freqs\n",
      "2024-02-03 23:30:54,089 bacco.BiasModel : tidk freqs\n"
     ]
    },
    {
     "name": "stdout",
     "output_type": "stream",
     "text": [
      "bacco.lss_scaler : 288 P(k) values; Di = (0.999481, 0.998948, 0.998444, 0.998444); nthreads =48; seed =-406168 \n",
      "bacco.lss_scaler: start computing linear field...\n",
      "bacco.lss_scaler: seed =-406168 ngrid=192 pkfixed=1 phase=0.000000, phase_type=0; precision=single \n"
     ]
    },
    {
     "name": "stderr",
     "output_type": "stream",
     "text": [
      "2024-02-03 23:31:13,351 bacco.BiasModel : ifft\n",
      "2024-02-03 23:31:14,982 bacco.BiasModel : Computing laplacian ...\n",
      "2024-02-03 23:31:14,984 bacco.BiasModel : Memory used: 3.538276352 Gigabytes\n",
      "2024-02-03 23:31:19,954 bacco.BiasModel : Computing bias terms in lagrangian coords ...\n",
      "2024-02-03 23:31:19,959 bacco.BiasModel : Memory used: 3.53859584 Gigabytes\n",
      "2024-02-03 23:31:19,966 bacco.BiasModel : Computing delta squared ...\n",
      "2024-02-03 23:31:19,967 bacco.BiasModel : Memory used: 3.53859584 Gigabytes\n",
      "2024-02-03 23:31:19,997 bacco.BiasModel : Computing tidal component G2 with the given tidal field\n",
      "2024-02-03 23:31:19,998 bacco.BiasModel : Memory used: 3.538612224 Gigabytes\n",
      "2024-02-03 23:31:20,544 bacco.BiasModel : Transforming to eulerian coords ...\n",
      "2024-02-03 23:31:20,545 bacco.BiasModel : Memory used: 3.425366016 Gigabytes\n",
      "2024-02-03 23:31:20,546 bacco.BiasModel : Finding indices from lagrangian neighbours ...\n",
      "2024-02-03 23:31:20,547 bacco.BiasModel : Memory used: 3.425366016 Gigabytes\n",
      "2024-02-03 23:31:20,547 bacco.BiasModel : Computing regular grid ...\n",
      "2024-02-03 23:31:20,548 bacco.BiasModel : Memory used: 3.425366016 Gigabytes\n",
      "2024-02-03 23:31:21,258 bacco.sims : Build cKDTree\n",
      "2024-02-03 23:31:25,681 bacco.sims : query cKDTree\n",
      "2024-02-03 23:31:26,731 bacco.BiasModel : mesh #0\n",
      "2024-02-03 23:31:26,732 bacco.statistics : Computing cic mesh with ngrid=192 and interlacing=False\n",
      "2024-02-03 23:31:26,733 bacco.statistics : starting deposit 1\n",
      "2024-02-03 23:31:26,800 bacco.statistics :  mesh done in 0.0685 s\n",
      "2024-02-03 23:31:26,801 bacco.BiasModel : mesh #1\n",
      "2024-02-03 23:31:26,803 bacco.statistics : Computing cic mesh with ngrid=192 and interlacing=False\n",
      "2024-02-03 23:31:26,803 bacco.statistics : starting deposit 1\n",
      "2024-02-03 23:31:26,896 bacco.statistics :  mesh done in 0.0933 s\n",
      "2024-02-03 23:31:26,902 bacco.BiasModel : mesh #2\n",
      "2024-02-03 23:31:26,903 bacco.statistics : Computing cic mesh with ngrid=192 and interlacing=False\n",
      "2024-02-03 23:31:26,903 bacco.statistics : starting deposit 1\n"
     ]
    },
    {
     "name": "stdout",
     "output_type": "stream",
     "text": [
      "bacco.mesh : boxsize=256.000000 ngrid=192, nthreads=48, vel_factor=0.000000, interlacing=0, folds=1.000000, 2d=0\n",
      "bacco.mesh : allocating 27.0 Mb\n",
      "bacco.mesh : binning of 7077888 particles (7077888 with mass)\n",
      "bacco.mesh : boxsize=256.000000 ngrid=192, nthreads=48, vel_factor=0.000000, interlacing=0, folds=1.000000, 2d=0\n",
      "bacco.mesh : allocating 27.0 Mb\n",
      "bacco.mesh : binning of 7077888 particles (7077888 with mass)\n"
     ]
    },
    {
     "name": "stderr",
     "output_type": "stream",
     "text": [
      "2024-02-03 23:31:26,988 bacco.statistics :  mesh done in 0.085 s\n",
      "2024-02-03 23:31:26,988 bacco.BiasModel : mesh #3\n",
      "2024-02-03 23:31:26,989 bacco.statistics : Computing cic mesh with ngrid=192 and interlacing=False\n",
      "2024-02-03 23:31:26,989 bacco.statistics : starting deposit 1\n",
      "2024-02-03 23:31:27,070 bacco.statistics :  mesh done in 0.081 s\n",
      "2024-02-03 23:31:27,070 bacco.BiasModel : mesh #4\n",
      "2024-02-03 23:31:27,071 bacco.statistics : Computing cic mesh with ngrid=192 and interlacing=False\n",
      "2024-02-03 23:31:27,071 bacco.statistics : starting deposit 1\n",
      "2024-02-03 23:31:27,185 bacco.statistics :  mesh done in 0.114 s\n"
     ]
    },
    {
     "name": "stdout",
     "output_type": "stream",
     "text": [
      "bacco.mesh : boxsize=256.000000 ngrid=192, nthreads=48, vel_factor=0.000000, interlacing=0, folds=1.000000, 2d=0\n",
      "bacco.mesh : allocating 27.0 Mb\n",
      "bacco.mesh : binning of 7077888 particles (7077888 with mass)\n",
      "bacco.mesh : boxsize=256.000000 ngrid=192, nthreads=48, vel_factor=0.000000, interlacing=0, folds=1.000000, 2d=0\n",
      "bacco.mesh : allocating 27.0 Mb\n",
      "bacco.mesh : binning of 7077888 particles (7077888 with mass)\n",
      "bacco.mesh : boxsize=256.000000 ngrid=192, nthreads=48, vel_factor=0.000000, interlacing=0, folds=1.000000, 2d=0\n",
      "bacco.mesh : allocating 27.0 Mb\n",
      "bacco.mesh : binning of 7077888 particles (7077888 with mass)\n"
     ]
    },
    {
     "name": "stderr",
     "output_type": "stream",
     "text": [
      "2024-02-03 23:31:27,215 bacco.BiasModel : Finished computing bias terms in lagrangian space and moving to Eulerian.\n",
      "2024-02-03 23:31:27,216 bacco.BiasModel : Defining prod...\n",
      "2024-02-03 23:31:27,217 bacco.BiasModel : np.arange(bias_terms_eul.shape[0]) = [0 1 2 3 4]\n",
      "2024-02-03 23:31:30,294 bacco.statistics : Computing the power spectrum with ngrid=192 and interlacing=False\n"
     ]
    },
    {
     "name": "stdout",
     "output_type": "stream",
     "text": [
      "bacco.power : boxsize 256.000000; ngrid 192; nthreads 48; interlacing 0; deposit_method 1; log_binning 0; type 1; precision=single; correct_grid=1 (log=1); correct_sn=0\n",
      "bacco.power : normalise_grid1=0 normalise_grid2=0 deconvolve_grid1=1 deconvolve_grid2=1\n",
      "bacco.power : total mass 1 (grid1) 1 (grid2)\n",
      "bacco.power : Doing FFTW\n",
      "bacco.power: FFT took 0.151680 sec\n",
      "bacco.power : Counting modes\n"
     ]
    },
    {
     "name": "stderr",
     "output_type": "stream",
     "text": [
      "2024-02-03 23:31:33,503 bacco.statistics :  ...done in 3.21 s\n",
      "2024-02-03 23:31:33,534 bacco.statistics : Computing the power spectrum with ngrid=192 and interlacing=False\n"
     ]
    },
    {
     "name": "stdout",
     "output_type": "stream",
     "text": [
      "bacco.power : done counting modes in 2.887695 sec\n",
      "bacco.power : Starting Fourier loop \n",
      "bacco.power : done Fourier loop in 0.005833 secs\n",
      "bacco.power : Deallocating arrays\n",
      "bacco.power : boxsize 256.000000; ngrid 192; nthreads 48; interlacing 0; deposit_method 1; log_binning 0; type 1; precision=single; correct_grid=1 (log=1); correct_sn=0\n",
      "bacco.power : normalise_grid1=0 normalise_grid2=0 deconvolve_grid1=1 deconvolve_grid2=1\n",
      "bacco.power : total mass 1 (grid1) 4.51311e-09 (grid2)\n",
      "bacco.power : Doing FFTW\n",
      "bacco.power: FFT took 0.160256 sec\n",
      "bacco.power : Counting modes\n"
     ]
    },
    {
     "name": "stderr",
     "output_type": "stream",
     "text": [
      "2024-02-03 23:31:36,415 bacco.statistics :  ...done in 2.88 s\n",
      "2024-02-03 23:31:36,437 bacco.statistics : Computing the power spectrum with ngrid=192 and interlacing=False\n"
     ]
    },
    {
     "name": "stdout",
     "output_type": "stream",
     "text": [
      "bacco.power : done counting modes in 2.610424 sec\n",
      "bacco.power : Starting Fourier loop \n",
      "bacco.power : done Fourier loop in 0.006218 secs\n",
      "bacco.power : Deallocating arrays\n",
      "bacco.power : boxsize 256.000000; ngrid 192; nthreads 48; interlacing 0; deposit_method 1; log_binning 0; type 1; precision=single; correct_grid=1 (log=0); correct_sn=0\n",
      "bacco.power : normalise_grid1=0 normalise_grid2=0 deconvolve_grid1=1 deconvolve_grid2=1\n",
      "bacco.power : total mass 1 (grid1) -4.60723e-07 (grid2)\n",
      "bacco.power : Doing FFTW\n",
      "bacco.power: FFT took 0.144835 sec\n",
      "bacco.power : Counting modes\n"
     ]
    },
    {
     "name": "stderr",
     "output_type": "stream",
     "text": [
      "2024-02-03 23:31:39,458 bacco.statistics :  ...done in 3.02 s\n",
      "2024-02-03 23:31:39,487 bacco.statistics : Computing the power spectrum with ngrid=192 and interlacing=False\n"
     ]
    },
    {
     "name": "stdout",
     "output_type": "stream",
     "text": [
      "bacco.power : done counting modes in 2.789910 sec\n",
      "bacco.power : Starting Fourier loop \n",
      "bacco.power : done Fourier loop in 0.003642 secs\n",
      "bacco.power : Deallocating arrays\n",
      "bacco.power : boxsize 256.000000; ngrid 192; nthreads 48; interlacing 0; deposit_method 1; log_binning 0; type 1; precision=single; correct_grid=1 (log=0); correct_sn=0\n",
      "bacco.power : normalise_grid1=0 normalise_grid2=0 deconvolve_grid1=1 deconvolve_grid2=1\n",
      "bacco.power : total mass 1 (grid1) -2.6896e-07 (grid2)\n",
      "bacco.power : Doing FFTW\n",
      "bacco.power: FFT took 0.142619 sec\n",
      "bacco.power : Counting modes\n"
     ]
    },
    {
     "name": "stderr",
     "output_type": "stream",
     "text": [
      "2024-02-03 23:31:42,344 bacco.statistics :  ...done in 2.86 s\n",
      "2024-02-03 23:31:42,374 bacco.statistics : Computing the power spectrum with ngrid=192 and interlacing=False\n"
     ]
    },
    {
     "name": "stdout",
     "output_type": "stream",
     "text": [
      "bacco.power : done counting modes in 2.630238 sec\n",
      "bacco.power : Starting Fourier loop \n",
      "bacco.power : done Fourier loop in 0.005693 secs\n",
      "bacco.power : Deallocating arrays\n",
      "bacco.power : boxsize 256.000000; ngrid 192; nthreads 48; interlacing 0; deposit_method 1; log_binning 0; type 1; precision=single; correct_grid=1 (log=0); correct_sn=0\n",
      "bacco.power : normalise_grid1=0 normalise_grid2=0 deconvolve_grid1=1 deconvolve_grid2=1\n",
      "bacco.power : total mass 1 (grid1) -4.02339e-10 (grid2)\n",
      "bacco.power : Doing FFTW\n",
      "bacco.power: FFT took 0.156756 sec\n",
      "bacco.power : Counting modes\n"
     ]
    },
    {
     "name": "stderr",
     "output_type": "stream",
     "text": [
      "2024-02-03 23:31:45,363 bacco.statistics :  ...done in 2.99 s\n",
      "2024-02-03 23:31:45,389 bacco.statistics : Computing the power spectrum with ngrid=192 and interlacing=False\n"
     ]
    },
    {
     "name": "stdout",
     "output_type": "stream",
     "text": [
      "bacco.power : done counting modes in 2.722788 sec\n",
      "bacco.power : Starting Fourier loop \n",
      "bacco.power : done Fourier loop in 0.005427 secs\n",
      "bacco.power : Deallocating arrays\n",
      "bacco.power : boxsize 256.000000; ngrid 192; nthreads 48; interlacing 0; deposit_method 1; log_binning 0; type 1; precision=single; correct_grid=1 (log=1); correct_sn=0\n",
      "bacco.power : normalise_grid1=0 normalise_grid2=0 deconvolve_grid1=1 deconvolve_grid2=1\n",
      "bacco.power : total mass 4.51311e-09 (grid1) 4.51311e-09 (grid2)\n",
      "bacco.power : Doing FFTW\n",
      "bacco.power: FFT took 0.145377 sec\n",
      "bacco.power : Counting modes\n"
     ]
    },
    {
     "name": "stderr",
     "output_type": "stream",
     "text": [
      "2024-02-03 23:31:48,378 bacco.statistics :  ...done in 2.99 s\n",
      "2024-02-03 23:31:48,400 bacco.statistics : Computing the power spectrum with ngrid=192 and interlacing=False\n"
     ]
    },
    {
     "name": "stdout",
     "output_type": "stream",
     "text": [
      "bacco.power : done counting modes in 2.766539 sec\n",
      "bacco.power : Starting Fourier loop \n",
      "bacco.power : done Fourier loop in 0.006167 secs\n",
      "bacco.power : Deallocating arrays\n",
      "bacco.power : boxsize 256.000000; ngrid 192; nthreads 48; interlacing 0; deposit_method 1; log_binning 0; type 1; precision=single; correct_grid=1 (log=1); correct_sn=0\n",
      "bacco.power : normalise_grid1=0 normalise_grid2=0 deconvolve_grid1=1 deconvolve_grid2=1\n",
      "bacco.power : total mass 4.51311e-09 (grid1) -4.60723e-07 (grid2)\n",
      "bacco.power : Doing FFTW\n",
      "bacco.power: FFT took 0.143934 sec\n",
      "bacco.power : Counting modes\n"
     ]
    },
    {
     "name": "stderr",
     "output_type": "stream",
     "text": [
      "2024-02-03 23:31:51,158 bacco.statistics :  ...done in 2.76 s\n",
      "2024-02-03 23:31:51,187 bacco.statistics : Computing the power spectrum with ngrid=192 and interlacing=False\n"
     ]
    },
    {
     "name": "stdout",
     "output_type": "stream",
     "text": [
      "bacco.power : done counting modes in 2.564254 sec\n",
      "bacco.power : Starting Fourier loop \n",
      "bacco.power : done Fourier loop in 0.004080 secs\n",
      "bacco.power : Deallocating arrays\n",
      "bacco.power : boxsize 256.000000; ngrid 192; nthreads 48; interlacing 0; deposit_method 1; log_binning 0; type 1; precision=single; correct_grid=1 (log=0); correct_sn=0\n",
      "bacco.power : normalise_grid1=0 normalise_grid2=0 deconvolve_grid1=1 deconvolve_grid2=1\n",
      "bacco.power : total mass 4.51311e-09 (grid1) -2.6896e-07 (grid2)\n",
      "bacco.power : Doing FFTW\n",
      "bacco.power: FFT took 0.149029 sec\n",
      "bacco.power : Counting modes\n"
     ]
    },
    {
     "name": "stderr",
     "output_type": "stream",
     "text": [
      "2024-02-03 23:31:53,945 bacco.statistics :  ...done in 2.76 s\n",
      "2024-02-03 23:31:53,968 bacco.statistics : Computing the power spectrum with ngrid=192 and interlacing=False\n"
     ]
    },
    {
     "name": "stdout",
     "output_type": "stream",
     "text": [
      "bacco.power : done counting modes in 2.483697 sec\n",
      "bacco.power : Starting Fourier loop \n",
      "bacco.power : done Fourier loop in 0.005704 secs\n",
      "bacco.power : Deallocating arrays\n",
      "bacco.power : boxsize 256.000000; ngrid 192; nthreads 48; interlacing 0; deposit_method 1; log_binning 0; type 1; precision=single; correct_grid=1 (log=0); correct_sn=0\n",
      "bacco.power : normalise_grid1=0 normalise_grid2=0 deconvolve_grid1=1 deconvolve_grid2=1\n",
      "bacco.power : total mass 4.51311e-09 (grid1) -4.02339e-10 (grid2)\n",
      "bacco.power : Doing FFTW\n",
      "bacco.power: FFT took 0.149125 sec\n",
      "bacco.power : Counting modes\n"
     ]
    },
    {
     "name": "stderr",
     "output_type": "stream",
     "text": [
      "2024-02-03 23:31:57,036 bacco.statistics :  ...done in 3.07 s\n",
      "2024-02-03 23:31:57,056 bacco.statistics : Computing the power spectrum with ngrid=192 and interlacing=False\n"
     ]
    },
    {
     "name": "stdout",
     "output_type": "stream",
     "text": [
      "bacco.power : done counting modes in 2.835700 sec\n",
      "bacco.power : Starting Fourier loop \n",
      "bacco.power : done Fourier loop in 0.006754 secs\n",
      "bacco.power : Deallocating arrays\n",
      "bacco.power : boxsize 256.000000; ngrid 192; nthreads 48; interlacing 0; deposit_method 1; log_binning 0; type 1; precision=single; correct_grid=1 (log=1); correct_sn=0\n",
      "bacco.power : normalise_grid1=0 normalise_grid2=0 deconvolve_grid1=1 deconvolve_grid2=1\n",
      "bacco.power : total mass -4.60723e-07 (grid1) -4.60723e-07 (grid2)\n",
      "bacco.power : Doing FFTW\n",
      "bacco.power: FFT took 0.156283 sec\n",
      "bacco.power : Counting modes\n"
     ]
    },
    {
     "name": "stderr",
     "output_type": "stream",
     "text": [
      "2024-02-03 23:32:00,059 bacco.statistics :  ...done in 3.0 s\n",
      "2024-02-03 23:32:00,095 bacco.statistics : Computing the power spectrum with ngrid=192 and interlacing=False\n"
     ]
    },
    {
     "name": "stdout",
     "output_type": "stream",
     "text": [
      "bacco.power : done counting modes in 2.764257 sec\n",
      "bacco.power : Starting Fourier loop \n",
      "bacco.power : done Fourier loop in 0.005544 secs\n",
      "bacco.power : Deallocating arrays\n",
      "bacco.power : boxsize 256.000000; ngrid 192; nthreads 48; interlacing 0; deposit_method 1; log_binning 0; type 1; precision=single; correct_grid=1 (log=1); correct_sn=0\n",
      "bacco.power : normalise_grid1=0 normalise_grid2=0 deconvolve_grid1=1 deconvolve_grid2=1\n"
     ]
    },
    {
     "name": "stderr",
     "output_type": "stream",
     "text": [
      "2024-02-03 23:32:02,818 bacco.statistics :  ...done in 2.72 s\n",
      "2024-02-03 23:32:02,858 bacco.statistics : Computing the power spectrum with ngrid=192 and interlacing=False\n"
     ]
    },
    {
     "name": "stdout",
     "output_type": "stream",
     "text": [
      "bacco.power : total mass -4.60723e-07 (grid1) -2.6896e-07 (grid2)\n",
      "bacco.power : Doing FFTW\n",
      "bacco.power: FFT took 0.158716 sec\n",
      "bacco.power : Counting modes\n",
      "bacco.power : done counting modes in 2.509220 sec\n",
      "bacco.power : Starting Fourier loop \n",
      "bacco.power : done Fourier loop in 0.005585 secs\n",
      "bacco.power : Deallocating arrays\n",
      "bacco.power : boxsize 256.000000; ngrid 192; nthreads 48; interlacing 0; deposit_method 1; log_binning 0; type 1; precision=single; correct_grid=0 (log=0); correct_sn=0\n",
      "bacco.power : normalise_grid1=0 normalise_grid2=0 deconvolve_grid1=1 deconvolve_grid2=1\n",
      "bacco.power : total mass -4.60723e-07 (grid1) -4.02339e-10 (grid2)\n",
      "bacco.power : Doing FFTW\n",
      "bacco.power: FFT took 0.147089 sec\n",
      "bacco.power : Counting modes\n"
     ]
    },
    {
     "name": "stderr",
     "output_type": "stream",
     "text": [
      "2024-02-03 23:32:05,530 bacco.statistics :  ...done in 2.67 s\n",
      "2024-02-03 23:32:05,545 bacco.statistics : Computing the power spectrum with ngrid=192 and interlacing=False\n"
     ]
    },
    {
     "name": "stdout",
     "output_type": "stream",
     "text": [
      "bacco.power : done counting modes in 2.468280 sec\n",
      "bacco.power : Starting Fourier loop \n",
      "bacco.power : done Fourier loop in 0.005850 secs\n",
      "bacco.power : Deallocating arrays\n",
      "bacco.power : boxsize 256.000000; ngrid 192; nthreads 48; interlacing 0; deposit_method 1; log_binning 0; type 1; precision=single; correct_grid=1 (log=1); correct_sn=0\n",
      "bacco.power : normalise_grid1=0 normalise_grid2=0 deconvolve_grid1=1 deconvolve_grid2=1\n",
      "bacco.power : total mass -2.6896e-07 (grid1) -2.6896e-07 (grid2)\n",
      "bacco.power : Doing FFTW\n",
      "bacco.power: FFT took 0.131631 sec\n",
      "bacco.power : Counting modes\n"
     ]
    },
    {
     "name": "stderr",
     "output_type": "stream",
     "text": [
      "2024-02-03 23:32:08,564 bacco.statistics :  ...done in 3.02 s\n",
      "2024-02-03 23:32:08,609 bacco.statistics : Computing the power spectrum with ngrid=192 and interlacing=False\n"
     ]
    },
    {
     "name": "stdout",
     "output_type": "stream",
     "text": [
      "bacco.power : done counting modes in 2.802527 sec\n",
      "bacco.power : Starting Fourier loop \n",
      "bacco.power : done Fourier loop in 0.005658 secs\n",
      "bacco.power : Deallocating arrays\n",
      "bacco.power : boxsize 256.000000; ngrid 192; nthreads 48; interlacing 0; deposit_method 1; log_binning 0; type 1; precision=single; correct_grid=1 (log=0); correct_sn=0\n",
      "bacco.power : normalise_grid1=0 normalise_grid2=0 deconvolve_grid1=1 deconvolve_grid2=1\n",
      "bacco.power : total mass -2.6896e-07 (grid1) -4.02339e-10 (grid2)\n",
      "bacco.power : Doing FFTW\n",
      "bacco.power: FFT took 0.162621 sec\n",
      "bacco.power : Counting modes\n"
     ]
    },
    {
     "name": "stderr",
     "output_type": "stream",
     "text": [
      "2024-02-03 23:32:11,379 bacco.statistics :  ...done in 2.77 s\n",
      "2024-02-03 23:32:11,394 bacco.statistics : Computing the power spectrum with ngrid=192 and interlacing=False\n"
     ]
    },
    {
     "name": "stdout",
     "output_type": "stream",
     "text": [
      "bacco.power : done counting modes in 2.542672 sec\n",
      "bacco.power : Starting Fourier loop \n",
      "bacco.power : done Fourier loop in 0.005473 secs\n",
      "bacco.power : Deallocating arrays\n",
      "bacco.power : boxsize 256.000000; ngrid 192; nthreads 48; interlacing 0; deposit_method 1; log_binning 0; type 1; precision=single; correct_grid=1 (log=1); correct_sn=0\n",
      "bacco.power : normalise_grid1=0 normalise_grid2=0 deconvolve_grid1=1 deconvolve_grid2=1\n",
      "bacco.power : total mass -4.02339e-10 (grid1) -4.02339e-10 (grid2)\n",
      "bacco.power : Doing FFTW\n",
      "bacco.power: FFT took 0.158334 sec\n",
      "bacco.power : Counting modes\n"
     ]
    },
    {
     "name": "stderr",
     "output_type": "stream",
     "text": [
      "2024-02-03 23:32:14,141 bacco.statistics :  ...done in 2.75 s\n",
      "2024-02-03 23:32:14,142 bacco.BiasModel : Done computing power spectra terms.\n"
     ]
    },
    {
     "name": "stdout",
     "output_type": "stream",
     "text": [
      "bacco.power : done counting modes in 2.514889 sec\n",
      "bacco.power : Starting Fourier loop \n",
      "bacco.power : done Fourier loop in 0.002881 secs\n",
      "bacco.power : Deallocating arrays\n"
     ]
    }
   ],
   "source": [
    "bcmbmodel = bacco.bias_model.BiasModel(sim=bcmsim.BaryonSimulation, ngrid=nsdm,\n",
    "                                       npart_for_fake_sim=nsdm,\n",
    "                                       mean_num_dens=0.01, # doesn't matter\n",
    "                                       mode='sdm', sdm=True,\n",
    "                                       damping_scale=ds)\n",
    "bcmpij = bcmbmodel.compute_power_terms(kmin=kmin, kmax=kmax, nbins=nbins, log_binning=log_binning)"
   ]
  },
  {
   "cell_type": "code",
   "execution_count": 10,
   "metadata": {},
   "outputs": [
    {
     "data": {
      "image/png": "[encoded data removed]",
      "text/plain": [
       "<Figure size 1080x1080 with 15 Axes>"
      ]
     },
     "metadata": {
      "needs_background": "light"
     },
     "output_type": "display_data"
    }
   ],
   "source": [
    "fig, ax = plt.subplots(5, 3, figsize=(15, 15), sharex=True, sharey=True, gridspec_kw={'hspace': 0.05, 'wspace': 0.05})\n",
    "\n",
    "ax = ax.flatten()\n",
    "\n",
    "labels = [r'$1 1$', r'$1 \\delta$', r'$1 \\delta^2$', r'$1 s^2$', r'$ 1 \\nabla^2\\delta$',\n",
    "          r'$\\delta \\delta$', r'$\\delta \\delta^2$', r'$\\delta s^2$', r'$\\delta \\nabla^2\\delta$',\n",
    "          r'$\\delta^2 \\delta^2$', r'$\\delta^2 s^2$', r'$\\delta^2 \\nabla^2\\delta$',  r'$s^2 s^2$',\n",
    "          r'$s^2 \\nabla^2\\delta$', r'$\\nabla^2\\delta \\nabla^2\\delta$']\n",
    "\n",
    "for i in range(15):\n",
    "    ax[i].axhline(1, color='k', lw=1)\n",
    "    ax[i].axvline(ds, color='k', lw=1, ls='--')\n",
    "    if i == 0:\n",
    "        ax[i].semilogx(dmopk['k'], bcmpk['pk'] / dmopk['pk'], lw=3, color='royalblue', label='sDM')\n",
    "    mask = bcmpij[i]['k'] < np.pi * nsdm / sim.header['BoxSize']\n",
    "    ax[i].semilogx(bcmpij[i]['k'][mask], bcmpij[i]['pk'][mask] / dmopij[i]['pk'][mask], lw=3, color='darkorange', label=labels[i])\n",
    "    ax[i].legend(fontsize=23)\n",
    "    ax[i].set_ylim(0.8, 1.05)\n",
    "    ax[i].text(ds + 0.05, 0.825, r'$k_{\\rm d}$', fontsize=23)\n",
    "    if i % 3 == 0:\n",
    "        ax[i].set_ylabel(r'$P_{ij, \\mathrm{BCM}} / P_{ij, \\mathrm{DMO}}$', fontsize=23)\n",
    "    if i >= 12:\n",
    "        ax[i].set_xlabel(r'$k \\,\\, [h \\,\\, \\mathrm{Mpc}^{-1}]$', fontsize=23)\n",
    "        bacco.set_logticks(ax[i], axis='x')\n",
    "\n",
    "plt.show()"
   ]
  },
  {
   "cell_type": "markdown",
   "metadata": {},
   "source": [
    "# Compare combination with same bias parameters but for $b_{\\nabla}$\n",
    "This should indicate if we can absorb the full effect of baryons in the laplacian bias parameter."
   ]
  },
  {
   "cell_type": "code",
   "execution_count": 11,
   "metadata": {},
   "outputs": [
    {
     "data": {
      "image/png": "[encoded data removed]",
      "text/plain": [
       "<Figure size 576x432 with 2 Axes>"
      ]
     },
     "metadata": {
      "needs_background": "light"
     },
     "output_type": "display_data"
    }
   ],
   "source": [
    "def combine(biasvec, pnn):\n",
    "    import itertools\n",
    "    biasvec = np.concatenate([[1], biasvec])\n",
    "    prod = np.array(list(itertools.combinations_with_replacement(np.arange(5), r=2)))\n",
    "    pgg = 0\n",
    "    for i in range(15):\n",
    "        fac = 2 if prod[i, 0] != prod[i, 1] else 1\n",
    "        pgg += fac * biasvec[prod[i, 0]] * biasvec[prod[i, 1]] * pnn[i]['pk']\n",
    "    return pgg\n",
    "\n",
    "fig, ax = plt.subplots(1, 1, figsize=(8, 6))\n",
    "\n",
    "biases = [1, 0.2, 0.2, 1]\n",
    "dmopgg = combine(biases, dmopij)\n",
    "bcmpgg = combine(biases, bcmpij)\n",
    "k = dmopij[0]['k']\n",
    "\n",
    "mask = k < 1\n",
    "ax.semilogx(k[mask], bcmpgg[mask] / dmopgg[mask], lw=5, color='royalblue')\n",
    "\n",
    "blaps = np.linspace(-2000, 5, 5)\n",
    "for ib, blap in enumerate(blaps):\n",
    "    biases = [1, 0.2, 0.2, blap]\n",
    "    dmopgg = combine(biases, dmopij)\n",
    "    bcmpgg = combine(biases, bcmpij)\n",
    "    k = dmopij[0]['k']\n",
    "\n",
    "    cc = plt.cm.Reds_r(ib / len(blaps))\n",
    "    mask = k < 1\n",
    "    ax.semilogx(k[mask], bcmpgg[mask] / dmopgg[mask], lw=1.5, color=cc)\n",
    "\n",
    "ax.set_xlabel(r'$k \\,\\, [h \\,\\, \\mathrm{Mpc}^{-1}]$', fontsize=23)\n",
    "ax.set_ylabel(r'$P_{\\rm gg, \\mathrm{BCM}} / P_{\\rm gg, \\mathrm{DMO}}$', fontsize=23)\n",
    "bacco.set_logticks(ax, axis='x')\n",
    "\n",
    "cb = plt.colorbar(plt.cm.ScalarMappable(norm=plt.Normalize(vmin=-2000, vmax=5), cmap=plt.cm.Reds_r), ax=ax)\n",
    "cb.ax.set_ylabel(r'$b_{\\nabla}$', fontsize=23)\n",
    "\n",
    "plt.show()"
   ]
  },
  {
   "cell_type": "code",
   "execution_count": null,
   "metadata": {},
   "outputs": [],
   "source": [
    "import pickle\n",
    "data = {'dmopij': dmopij, 'bcmpij': bcmpij}\n",
    "with open('pij.pickle', 'wb') as f:\n",
    "    pickle.dump(data, f)"
   ]
  }
 ],
 "metadata": {
  "kernelspec": {
   "display_name": "mcnd",
   "language": "python",
   "name": "python3"
  },
  "language_info": {
   "codemirror_mode": {
    "name": "ipython",
    "version": 3
   },
   "file_extension": ".py",
   "mimetype": "text/x-python",
   "name": "python",
   "nbconvert_exporter": "python",
   "pygments_lexer": "ipython3",
   "version": "3.9.17"
  }
 },
 "nbformat": 4,
 "nbformat_minor": 2
}
